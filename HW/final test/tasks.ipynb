{
 "cells": [
  {
   "cell_type": "code",
   "execution_count": 11,
   "metadata": {
    "collapsed": true
   },
   "outputs": [],
   "source": [
    "import numpy as np\n",
    "from random import choice"
   ]
  },
  {
   "cell_type": "markdown",
   "metadata": {},
   "source": [
    "### Task 1 (0.3)\n",
    "Напечатайте символы следующим образом:"
   ]
  },
  {
   "cell_type": "markdown",
   "metadata": {},
   "source": [
    "#### V1\n",
    "<i>yz wx uv st qr op mn kl ij gh ef cd ab</i>"
   ]
  },
  {
   "cell_type": "markdown",
   "metadata": {},
   "source": [
    "#### V2\n",
    "<i>Mn Lo Kp Jq Ir Hs Gt Fu Ev Dw Cx By Az</i>"
   ]
  },
  {
   "cell_type": "code",
   "execution_count": 47,
   "metadata": {
    "collapsed": true
   },
   "outputs": [],
   "source": [
    "def get_string(string, step=2):\n",
    "    new_string = string.replace(' ','')\n",
    "    words = []\n",
    "    for i in range(0, len(string), step):\n",
    "        words.append(new_string[i:min(i+step, len(string))])\n",
    "    return ' '.join(map(lambda word: word.capitalize(), words))"
   ]
  },
  {
   "cell_type": "code",
   "execution_count": 49,
   "metadata": {},
   "outputs": [
    {
     "name": "stdout",
     "output_type": "stream",
     "text": [
      "Ds Ge Wg Gr \n"
     ]
    }
   ],
   "source": [
    "string = \"dsg ewgg r\"\n",
    "print(get_string(string))"
   ]
  },
  {
   "cell_type": "markdown",
   "metadata": {},
   "source": [
    "#### V3\n",
    "<i>edcba jihgf onmlk tsrqp yxwvu z</i>"
   ]
  },
  {
   "cell_type": "markdown",
   "metadata": {},
   "source": [
    "Поясните свое решение."
   ]
  },
  {
   "cell_type": "markdown",
   "metadata": {},
   "source": [
    "### Task 2 (0.5)\n",
    "Обмен сообщениями должен быть очередным (не посылать более 2 сообщения подряд)"
   ]
  },
  {
   "cell_type": "markdown",
   "metadata": {},
   "source": [
    "#### V1\n",
    "Сделайте имитацию обмена случайными ругательствами с помощью генераторов."
   ]
  },
  {
   "cell_type": "markdown",
   "metadata": {},
   "source": [
    "#### V2\n",
    "Сделайте имитацию обмена случайными ругательствами между потоками."
   ]
  },
  {
   "cell_type": "code",
   "execution_count": 35,
   "metadata": {
    "collapsed": true
   },
   "outputs": [],
   "source": [
    "bad_phrases = [u'#include \"ублюдок,мать_твою.h\"', u'3)что ты мне сделаешь, я в другом городе',\n",
    "               u'за мат извини', u'сюда иди', u'а если найду']\n",
    "\n",
    "def get_bad_phrase():\n",
    "    return choice(bad_phrases)"
   ]
  },
  {
   "cell_type": "code",
   "execution_count": 38,
   "metadata": {},
   "outputs": [
    {
     "name": "stdout",
     "output_type": "stream",
     "text": [
      "First: #include \"ублюдок,мать_твою.h\"\n",
      "Second: а если найду\n",
      "First: а если найду\n",
      "Second: за мат извини\n",
      "First: 3)что ты мне сделаешь, я в другом городе\n",
      "Second: сюда иди\n"
     ]
    }
   ],
   "source": [
    "from queue import Queue\n",
    "import threading\n",
    "\n",
    "def thread_first_speaker(first_speaker_q, second_speaker_q, n_phrases):\n",
    "    for _ in range(n_phrases):\n",
    "        my_phrase = get_bad_phrase()\n",
    "        print(\"First: {}\".format(my_phrase))\n",
    "        first_speaker_q.put(my_phrase)\n",
    "        answer = second_speaker_q.get()\n",
    "        # maybe some actions\n",
    "        second_speaker_q.task_done()\n",
    "\n",
    "def thread_second_speaker(first_speaker_q, second_speaker_q, n_phrases):\n",
    "    for _ in range(n_phrases):\n",
    "        phrase = first_speaker_q.get()\n",
    "        # maybe some actions\n",
    "        answer = get_bad_phrase()\n",
    "        print(\"Second: {}\".format(answer))\n",
    "        first_speaker_q.task_done()\n",
    "        second_speaker_q.put(answer)\n",
    "    \n",
    "def run_dialog(n_phrases=3):\n",
    "    first_speaker_q = Queue()\n",
    "    second_speaker_q = Queue()\n",
    "    first_speaker = threading.Thread(target=thread_first_speaker, \n",
    "                                     args=(first_speaker_q, second_speaker_q, n_phrases))\n",
    "    first_speaker.start()\n",
    "    \n",
    "    second_speaker = threading.Thread(target=thread_second_speaker, \n",
    "                                     args=(first_speaker_q, second_speaker_q, n_phrases))\n",
    "    second_speaker.start()\n",
    "    \n",
    "    first_speaker.join()\n",
    "    second_speaker.join()\n",
    "\n",
    "run_dialog()"
   ]
  },
  {
   "cell_type": "markdown",
   "metadata": {},
   "source": [
    "#### V3\n",
    "Сделайте имитацию обмена случайными ругательствами между процессами."
   ]
  },
  {
   "cell_type": "markdown",
   "metadata": {},
   "source": [
    "### Task 3 (0.7)\n",
    "Создайте метакласс, удовлетворяющий следующему функционалу"
   ]
  },
  {
   "cell_type": "markdown",
   "metadata": {},
   "source": [
    "#### V1\n",
    "Печатает на экран случайное ругательство, когда вызывается какая либо функция класса или экземпляра."
   ]
  },
  {
   "cell_type": "markdown",
   "metadata": {},
   "source": [
    "#### V2\n",
    "Печатает на экран случайное ругательство, когда происходит обращение к какому либо атрибуту класса или экземпляра."
   ]
  },
  {
   "cell_type": "code",
   "execution_count": 30,
   "metadata": {},
   "outputs": [
    {
     "name": "stdout",
     "output_type": "stream",
     "text": [
      "за мат извини\n",
      "1\n",
      "#include \"ублюдок,мать_твою.h\"\n",
      "2\n"
     ]
    }
   ],
   "source": [
    "class BadMetaClass(type):   \n",
    "    def __init__(cls, name, base, attrs):\n",
    "        def getattribute(self, name):\n",
    "            print(get_bad_phrase())\n",
    "            return super(cls, self).__getattribute__(name)\n",
    "            \n",
    "        cls.__getattribute__ = getattribute\n",
    "        super().__init__(name, base, attrs)\n",
    "\n",
    "class Test(metaclass=BadMetaClass):\n",
    "    a = 1\n",
    "    \n",
    "    def __init__(self):\n",
    "        self.b = 2\n",
    "    \n",
    "t = Test()\n",
    "print(t.a)\n",
    "print(t.b)"
   ]
  },
  {
   "cell_type": "markdown",
   "metadata": {},
   "source": [
    "#### V3\n",
    "Заменяет все имена атрибутов и функций на обратные (sum->mus) при создании."
   ]
  }
 ],
 "metadata": {
  "kernelspec": {
   "display_name": "Python 3",
   "language": "python",
   "name": "python3"
  },
  "language_info": {
   "codemirror_mode": {
    "name": "ipython",
    "version": 3
   },
   "file_extension": ".py",
   "mimetype": "text/x-python",
   "name": "python",
   "nbconvert_exporter": "python",
   "pygments_lexer": "ipython3",
   "version": "3.6.1"
  }
 },
 "nbformat": 4,
 "nbformat_minor": 2
}
