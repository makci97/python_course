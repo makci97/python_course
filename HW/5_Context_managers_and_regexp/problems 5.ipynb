{
 "cells": [
  {
   "cell_type": "markdown",
   "metadata": {},
   "source": [
    "# Задание 5"
   ]
  },
  {
   "cell_type": "markdown",
   "metadata": {},
   "source": [
    "## 1. ContextTimer(0.3 балла)\n",
    "Напишите менеджер контекста, который позволит засекать время выполнения блока кода с помощью конструкции with и выводить это время на экран по выходу из блока. Пример использования:\n",
    "\n",
    "<code>\n",
    "with Timer ():\n",
    "    do_some_long_stuff()\n",
    "</code>\n",
    "\n",
    "Рекомендации: используйте стандартную библиотеку для работы со временем.\n",
    "\n",
    "Протестируйте себя."
   ]
  },
  {
   "cell_type": "code",
   "execution_count": 1,
   "metadata": {
    "collapsed": true
   },
   "outputs": [],
   "source": [
    "import time"
   ]
  },
  {
   "cell_type": "code",
   "execution_count": 2,
   "metadata": {
    "collapsed": true
   },
   "outputs": [],
   "source": [
    "class Timer():\n",
    "    def __init__(self):\n",
    "        self.start_time = None\n",
    "\n",
    "    def __enter__(self):\n",
    "        self.start_time = time.time()\n",
    "\n",
    "    def __exit__(self, *args):\n",
    "        end_time = time.time()\n",
    "        print(\"It took: {}\".format(end_time-self.start_time))"
   ]
  },
  {
   "cell_type": "code",
   "execution_count": 6,
   "metadata": {},
   "outputs": [
    {
     "name": "stdout",
     "output_type": "stream",
     "text": [
      "It took: 3.002661943435669\n"
     ]
    }
   ],
   "source": [
    "with Timer():\n",
    "    time.sleep(3)"
   ]
  },
  {
   "cell_type": "markdown",
   "metadata": {},
   "source": [
    "## 2.Transaction (0.4 балла)\n",
    "Вам необходимо написать менеджер контекстов, который позволит безопасно работать с транзакциями. Напишите класс Storage, в котором будут храниться какие-то данные в виде словаря. Эти данные должны быть закрытыми и их можно только читать через операцию []. У этого класса должен быть метод edit, который возвращает менеджер контекста, позволяющий редактировать исходный объект (опять же через []). При этом результаты редактирования записываются в исходный объект только если весь блок выполнился успешно. Пример использования:\n",
    "\n",
    "<code>\n",
    "s = Storage()\n",
    "with s.edit() as se :\n",
    "    se[\"a\"] = 1\n",
    "    may_be_an_exception_here()\n",
    "</code>\n",
    "\n",
    "Протестируйте себя."
   ]
  },
  {
   "cell_type": "code",
   "execution_count": 7,
   "metadata": {
    "collapsed": true
   },
   "outputs": [],
   "source": [
    "from contextlib import contextmanager"
   ]
  },
  {
   "cell_type": "code",
   "execution_count": 70,
   "metadata": {
    "collapsed": true
   },
   "outputs": [],
   "source": [
    "class Storage():\n",
    "    def __init__(self):\n",
    "        self.__data_dict = {}\n",
    "        \n",
    "    def __getattr(self, name):\n",
    "        return self.data_dict.get(name)\n",
    "    \n",
    "#     def __setattr__(self, name, value):\n",
    "#         print(\"hello\")\n",
    "#         pass\n",
    "\n",
    "    def __str__(self):\n",
    "        return \"\\n\".join(map(lambda pair: str(pair[0]) + ': ' + str(pair[1]), self.__data_dict.items()))\n",
    "    \n",
    "    @contextmanager\n",
    "    def edit(self):\n",
    "        try:\n",
    "            update_for_data = {}\n",
    "            yield update_for_data\n",
    "        except:\n",
    "            print(\"Operation was broken by some exception!\")\n",
    "            raise\n",
    "        self.__data_dict.update(update_for_data)"
   ]
  },
  {
   "cell_type": "code",
   "execution_count": 77,
   "metadata": {},
   "outputs": [
    {
     "name": "stdout",
     "output_type": "stream",
     "text": [
      "a: 1\n"
     ]
    }
   ],
   "source": [
    "s = Storage()\n",
    "with s.edit() as se :\n",
    "    se[\"a\"] = 1\n",
    "\n",
    "print(s)"
   ]
  },
  {
   "cell_type": "code",
   "execution_count": 78,
   "metadata": {},
   "outputs": [
    {
     "name": "stdout",
     "output_type": "stream",
     "text": [
      "Operation was broken by some exception!\n"
     ]
    },
    {
     "ename": "ValueError",
     "evalue": "",
     "output_type": "error",
     "traceback": [
      "\u001b[0;31m---------------------------------------------------------------------------\u001b[0m",
      "\u001b[0;31mValueError\u001b[0m                                Traceback (most recent call last)",
      "\u001b[0;32m<ipython-input-78-209c5820711d>\u001b[0m in \u001b[0;36m<module>\u001b[0;34m()\u001b[0m\n\u001b[1;32m      2\u001b[0m \u001b[0;32mwith\u001b[0m \u001b[0ms\u001b[0m\u001b[0;34m.\u001b[0m\u001b[0medit\u001b[0m\u001b[0;34m(\u001b[0m\u001b[0;34m)\u001b[0m \u001b[0;32mas\u001b[0m \u001b[0mse\u001b[0m \u001b[0;34m:\u001b[0m\u001b[0;34m\u001b[0m\u001b[0m\n\u001b[1;32m      3\u001b[0m     \u001b[0mse\u001b[0m\u001b[0;34m[\u001b[0m\u001b[0;34m\"a\"\u001b[0m\u001b[0;34m]\u001b[0m \u001b[0;34m=\u001b[0m \u001b[0;36m1\u001b[0m\u001b[0;34m\u001b[0m\u001b[0m\n\u001b[0;32m----> 4\u001b[0;31m     \u001b[0;32mraise\u001b[0m \u001b[0mValueError\u001b[0m\u001b[0;34m(\u001b[0m\u001b[0;34m)\u001b[0m\u001b[0;34m\u001b[0m\u001b[0m\n\u001b[0m",
      "\u001b[0;31mValueError\u001b[0m: "
     ]
    }
   ],
   "source": [
    "s = Storage()\n",
    "with s.edit() as se :\n",
    "    se[\"a\"] = 1\n",
    "    raise ValueError()"
   ]
  },
  {
   "cell_type": "code",
   "execution_count": 79,
   "metadata": {},
   "outputs": [
    {
     "name": "stdout",
     "output_type": "stream",
     "text": [
      "\n"
     ]
    }
   ],
   "source": [
    "print(s)"
   ]
  },
  {
   "cell_type": "markdown",
   "metadata": {},
   "source": [
    "## Phone numbers (0.3)\n",
    "Напишите регулярное выражение для распознавания телефонных номеров и протестируйте себя. Номера, которые должны распознаваться:\n",
    "* 3-22-46\n",
    "* +71239513749\n",
    "* 71239513749\n",
    "* 1239513749\n",
    "* +7(123)-951-37-49\n",
    "* +7(123)9513749\n",
    "* +7-123-9513749\n",
    "* +7-123-951-37-49\n",
    "\n",
    "* 7(123)-951-37-49\n",
    "* 7(123)9513749\n",
    "* 7-123-9513749\n",
    "* 7-123-951-37-49\n",
    "\n",
    "* (123)-951-37-49\n",
    "* (123)9513749\n",
    "* 123-9513749\n",
    "* 123-951-37-49"
   ]
  },
  {
   "cell_type": "code",
   "execution_count": 81,
   "metadata": {
    "collapsed": true
   },
   "outputs": [],
   "source": [
    "import re"
   ]
  },
  {
   "cell_type": "code",
   "execution_count": 82,
   "metadata": {
    "collapsed": true
   },
   "outputs": [],
   "source": [
    "numbers = [\n",
    "    \"3-22-46\",\n",
    "    \"+71239513749\",\n",
    "    \"71239513749\",\n",
    "    \"1239513749\",\n",
    "    \"+7(123)-951-37-49\",\n",
    "    \"+7(123)9513749\",\n",
    "    \"+7-123-9513749\",\n",
    "    \"+7-123-951-37-49\",\n",
    "    \"7(123)-951-37-49\",\n",
    "    \"7(123)9513749\",\n",
    "    \"7-123-9513749\",\n",
    "    \"7-123-951-37-49\",\n",
    "    \"(123)-951-37-49\",\n",
    "    \"(123)9513749\",\n",
    "    \"123-9513749\",\n",
    "    \"123-951-37-49\"\n",
    "]"
   ]
  },
  {
   "cell_type": "code",
   "execution_count": 83,
   "metadata": {
    "collapsed": true
   },
   "outputs": [],
   "source": [
    "num_exp = re.compile(r\"(\\+?\\d)?(\\(\\d+\\))?(-?\\d+)*\")"
   ]
  },
  {
   "cell_type": "code",
   "execution_count": 91,
   "metadata": {},
   "outputs": [
    {
     "data": {
      "text/plain": [
       "'3-22-46'"
      ]
     },
     "execution_count": 91,
     "metadata": {},
     "output_type": "execute_result"
    }
   ],
   "source": [
    "num_exp.match(numbers[0]).group()"
   ]
  },
  {
   "cell_type": "code",
   "execution_count": 92,
   "metadata": {},
   "outputs": [
    {
     "name": "stdout",
     "output_type": "stream",
     "text": [
      "3-22-46: True\n",
      "+71239513749: True\n",
      "71239513749: True\n",
      "1239513749: True\n",
      "+7(123)-951-37-49: True\n",
      "+7(123)9513749: True\n",
      "+7-123-9513749: True\n",
      "+7-123-951-37-49: True\n",
      "7(123)-951-37-49: True\n",
      "7(123)9513749: True\n",
      "7-123-9513749: True\n",
      "7-123-951-37-49: True\n",
      "(123)-951-37-49: True\n",
      "(123)9513749: True\n",
      "123-9513749: True\n",
      "123-951-37-49: True\n"
     ]
    }
   ],
   "source": [
    "for num in numbers:\n",
    "    found_num = num_exp.match(num).group()\n",
    "    print(\"{}: {}\".format(num, num == found_num))"
   ]
  }
 ],
 "metadata": {
  "kernelspec": {
   "display_name": "Python 3",
   "language": "python",
   "name": "python3"
  },
  "language_info": {
   "codemirror_mode": {
    "name": "ipython",
    "version": 3
   },
   "file_extension": ".py",
   "mimetype": "text/x-python",
   "name": "python",
   "nbconvert_exporter": "python",
   "pygments_lexer": "ipython3",
   "version": "3.6.1"
  }
 },
 "nbformat": 4,
 "nbformat_minor": 2
}
