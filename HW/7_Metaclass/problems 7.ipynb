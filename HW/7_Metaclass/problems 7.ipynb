{
 "cells": [
  {
   "cell_type": "markdown",
   "metadata": {},
   "source": [
    "# Задание 7"
   ]
  },
  {
   "cell_type": "markdown",
   "metadata": {},
   "source": [
    "## 1. PropertyCreator (0.2 балла)\n",
    "\n",
    "Напишите мета класс для создания свойств (property) класса из функций начинающихся с \"set\\_\", \"get\\_\" или \"del_\". Пример использования:\n",
    "<code>\n",
    "class TestPropertyCreator(metaclass=PropertyCreator):\n",
    "    def \\__init\\__(self, lo):\n",
    "        self.__x = None\n",
    "        self.lo = lo\n",
    "\n",
    "    def get_x(self):\n",
    "        return self.__x\n",
    "\n",
    "    def set_x(self, value):\n",
    "        if value < self.lo:\n",
    "            raise ValueError(\"Value must in condition: {} <= value\".format(self.lo))\n",
    "        self.__x = value\n",
    "    \n",
    "    def del_x(self):\n",
    "        self.__x = \"No more\"\n",
    "\n",
    "    pass\n",
    "\n",
    "\n",
    "obj = TestPropertyCreator(5)\n",
    "obj.x = 4\n",
    "print(obj.x)\n",
    "del (obj.x)\n",
    "</code>\n",
    "\n",
    "* Мета класс должен поддерживать наследование, в смысле создавать свойства у потомков.\n",
    "* Должен поддерживать частичное описание свойств, т. е. например, описание одного метода get_val (без set_val и del_val).\n",
    "* Поддерживать множественное использование одного свойства с одним именем в разных классах:\n",
    "\n",
    "<code>\n",
    "class A(metaclass=PropertyCreator):\n",
    "    def get_x(self):\n",
    "        return \"x in class A\"\n",
    "\n",
    "class B(metaclass=PropertyCreator):\n",
    "    def get_x(self):\n",
    "        return \"x in class B\"\n",
    "\n",
    "class C(metaclass=PropertyCreator):\n",
    "    def set_x(self, value):\n",
    "        self.value = \"x in class C\"\n",
    "    def get_x(self):\n",
    "        return self.value\n",
    "</code>\n",
    "* Должен уметь обрабатывать имен с несколькими подчеркиваниями \"get_raw_text\"."
   ]
  },
  {
   "cell_type": "markdown",
   "metadata": {},
   "source": [
    "#### Решение"
   ]
  },
  {
   "cell_type": "code",
   "execution_count": 35,
   "metadata": {
    "collapsed": true
   },
   "outputs": [],
   "source": [
    "from collections import defaultdict, Counter"
   ]
  },
  {
   "cell_type": "code",
   "execution_count": 3,
   "metadata": {},
   "outputs": [],
   "source": [
    "props = defaultdict(lambda: {'get': None, 'set': None, 'del': None})"
   ]
  },
  {
   "cell_type": "code",
   "execution_count": 4,
   "metadata": {},
   "outputs": [
    {
     "data": {
      "text/plain": [
       "{'del': None, 'get': None, 'set': None}"
      ]
     },
     "execution_count": 4,
     "metadata": {},
     "output_type": "execute_result"
    }
   ],
   "source": [
    "props['x']"
   ]
  },
  {
   "cell_type": "code",
   "execution_count": 6,
   "metadata": {},
   "outputs": [
    {
     "data": {
      "text/plain": [
       "'a'"
      ]
     },
     "execution_count": 6,
     "metadata": {},
     "output_type": "execute_result"
    }
   ],
   "source": [
    "'get_a'[4:]"
   ]
  },
  {
   "cell_type": "code",
   "execution_count": 11,
   "metadata": {},
   "outputs": [
    {
     "data": {
      "text/plain": [
       "True"
      ]
     },
     "execution_count": 11,
     "metadata": {},
     "output_type": "execute_result"
    }
   ],
   "source": [
    "'get_a'.startswith('get_')"
   ]
  },
  {
   "cell_type": "code",
   "execution_count": null,
   "metadata": {
    "collapsed": true
   },
   "outputs": [],
   "source": [
    "props."
   ]
  },
  {
   "cell_type": "code",
   "execution_count": 22,
   "metadata": {
    "collapsed": true
   },
   "outputs": [],
   "source": [
    "class PropertyCreator(type):\n",
    "    def __new__(cls, name, bases, attrs):\n",
    "        props = defaultdict(lambda: {'get': None, 'set': None, 'del': None})\n",
    "        res_attrs = {}\n",
    "        for attr_name, attr_value in attrs.items():\n",
    "            if attr_name.startswith('get_'):\n",
    "                props[attr_name[4:]]['get'] = attr_value\n",
    "            elif attr_name.startswith('set_'):\n",
    "                props[attr_name[4:]]['set'] = attr_value\n",
    "            elif attr_name.startswith('del_'):\n",
    "                props[attr_name[4:]]['del'] = attr_value\n",
    "            else:\n",
    "                res_attrs[attr_name] = attr_value\n",
    "        for prop_name, prop_funcs in props.items():\n",
    "            res_attrs[prop_name] = property(prop_funcs['get'], prop_funcs['set'], prop_funcs['del'])\n",
    "        return super(PropertyCreator, cls).__new__(cls, name, bases, res_attrs)"
   ]
  },
  {
   "cell_type": "markdown",
   "metadata": {},
   "source": [
    "#### Протестируйте свое решение"
   ]
  },
  {
   "cell_type": "code",
   "execution_count": 25,
   "metadata": {
    "collapsed": true
   },
   "outputs": [],
   "source": [
    "def test_simple():\n",
    "    class TestPropertyCreator(metaclass=PropertyCreator):\n",
    "        def __init__(self, lo):\n",
    "            self.__x = None\n",
    "            self.lo = lo\n",
    "            \n",
    "        def get_x(self):\n",
    "            return self.__x\n",
    "\n",
    "        def set_x(self, value):\n",
    "            if value < self.lo:\n",
    "                raise ValueError(\"Value must in condition: {} <= value\".format(self.lo))\n",
    "            self.__x = value\n",
    "\n",
    "        def del_x(self):\n",
    "            self.__x = \"No more\"\n",
    "\n",
    "    t = TestPropertyCreator(10)\n",
    "    t.x = 20\n",
    "    try:\n",
    "        t.x = 5\n",
    "    except ValueError as e:\n",
    "        print(e)\n",
    "    print(t.x)"
   ]
  },
  {
   "cell_type": "code",
   "execution_count": 26,
   "metadata": {},
   "outputs": [
    {
     "name": "stdout",
     "output_type": "stream",
     "text": [
      "Value must in condition: 10 <= value\n",
      "20\n"
     ]
    }
   ],
   "source": [
    "test_simple()"
   ]
  },
  {
   "cell_type": "code",
   "execution_count": 28,
   "metadata": {},
   "outputs": [
    {
     "name": "stdout",
     "output_type": "stream",
     "text": [
      "0\n",
      "['set', 'set', 'get']\n"
     ]
    }
   ],
   "source": [
    "def test_with_inheritance():\n",
    "    class TestPropertyCreator(metaclass=PropertyCreator):\n",
    "        pass\n",
    "\n",
    "    class TestPropertyCreatorInheritance(TestPropertyCreator):\n",
    "        def __init__(self):\n",
    "            self._secret_list = []\n",
    "\n",
    "        def get_x(self):\n",
    "            self._secret_list.append(\"get\")\n",
    "            return 0\n",
    "\n",
    "        def set_x(self, value):\n",
    "            self._secret_list.append(\"set\")\n",
    "\n",
    "    t = TestPropertyCreatorInheritance()\n",
    "    t.x = 20\n",
    "    try:\n",
    "        t.x = 5\n",
    "    except ValueError as e:\n",
    "        print(e)\n",
    "    print(t.x)\n",
    "    print(t._secret_list)\n",
    "    \n",
    "test_with_inheritance()"
   ]
  },
  {
   "cell_type": "code",
   "execution_count": 30,
   "metadata": {},
   "outputs": [
    {
     "name": "stdout",
     "output_type": "stream",
     "text": [
      "0\n",
      "['set', 'set', 'get']\n"
     ]
    }
   ],
   "source": [
    "def test_partially_defined():\n",
    "    class TestPropertyCreator(metaclass=PropertyCreator):\n",
    "        def __init__(self):\n",
    "            self._secret_list = []\n",
    "\n",
    "        def get_x(self):\n",
    "            self._secret_list.append(\"get\")\n",
    "            return 0\n",
    "\n",
    "        def set_y(self, value):\n",
    "            self._secret_list.append(\"set\")\n",
    "            self._y = value\n",
    "\n",
    "    t = TestPropertyCreator()\n",
    "    t.y = 20\n",
    "    try:\n",
    "        t.y = 5\n",
    "    except ValueError as e:\n",
    "        print(e)\n",
    "    print(t.x)\n",
    "    print(t._secret_list)\n",
    "\n",
    "test_partially_defined()   "
   ]
  },
  {
   "cell_type": "code",
   "execution_count": 32,
   "metadata": {},
   "outputs": [
    {
     "name": "stdout",
     "output_type": "stream",
     "text": [
      "0\n",
      "raw_text\n"
     ]
    }
   ],
   "source": [
    "def test_sanity():\n",
    "    class TestPropertyCreator(metaclass=PropertyCreator):\n",
    "        _text = 0\n",
    "        def get_raw_text(self):\n",
    "             return 'raw_text'\n",
    "\n",
    "        def get_text(self):\n",
    "             return self._text % 2\n",
    "\n",
    "        def set_text(self, value):\n",
    "            try:\n",
    "                self._text = int(value)\n",
    "            except ValueError:\n",
    "                raise TypeError(\"unproper value for text: {}\".format(value))\n",
    "\n",
    "    t = TestPropertyCreator()\n",
    "    t.text = 20\n",
    "    print(t.text)\n",
    "    print(t.raw_text)\n",
    "\n",
    "test_sanity()   "
   ]
  },
  {
   "cell_type": "code",
   "execution_count": 33,
   "metadata": {},
   "outputs": [
    {
     "name": "stdout",
     "output_type": "stream",
     "text": [
      "0\n",
      "1\n",
      "21\n"
     ]
    }
   ],
   "source": [
    "def test_multiple_usages():\n",
    "    class TestPropertyCreatorA(metaclass=PropertyCreator):\n",
    "        def get_x(self):\n",
    "            return 0\n",
    "        \n",
    "    class TestPropertyCreatorB(metaclass=PropertyCreator):\n",
    "        def get_x(self):\n",
    "            return 1\n",
    "        \n",
    "    class TestPropertyCreatorC(metaclass=PropertyCreator):\n",
    "        def set_x(self, value):\n",
    "            self.value = value + 1\n",
    "        def get_x(self):\n",
    "            return self.value\n",
    "\n",
    "    t_A = TestPropertyCreatorA()\n",
    "    t_B = TestPropertyCreatorB()\n",
    "    t_C = TestPropertyCreatorC()\n",
    "    t_C.x = 20\n",
    "    print(t_A.x)\n",
    "    print(t_B.x)\n",
    "    print(t_C.x)\n",
    "\n",
    "test_multiple_usages()   "
   ]
  },
  {
   "cell_type": "markdown",
   "metadata": {},
   "source": [
    "## 2. InstanceCountExeptioner (0.2 балла)\n",
    "Напишите метакласс InstanceCountExeptioner, который будет следить за количеством экземпляров класса, использующих его. Количество задается через поле класса \\_\\_max_instane\\_count\\_\\_. Т. е. число экземпляров каждого класса регулируется отдельно. Если в классе не указано поле \\_\\_max_instane\\_count\\_\\_, то используйте заранее заданное число в метаклассе (любое). Пример:\n",
    "\n",
    "<code>\n",
    "class TestInstanceCountExeptionerA(metaclass=InstanceCountExeptioner):\n",
    "    \\_\\_max_instane\\_count\\_\\_ = 2\n",
    "    def \\__init\\__(self, a):\n",
    "        self.a = a\n",
    "\n",
    "\n",
    "class TestInstanceCountExeptionerB(metaclass=InstanceCountExeptioner):\n",
    "    \\_\\_max_instane\\_count\\_\\_ = 1\n",
    "    def \\__init\\__(self, a):\n",
    "        self.a = a\n",
    "\n",
    "a_one = TestInstanceCountExeptionerA('one')\n",
    "a_two = TestInstanceCountExeptionerA('two')\n",
    "b_one = TestInstanceCountExeptionerB('one')\n",
    "\\# пока всё шло хорошо\n",
    "\n",
    "\\# а вот\n",
    "a_three = TestInstanceCountExeptionerA('three')\n",
    "\\# выкенет исключение InstanceCountExeption (ваше собственное исключение)\n",
    "</code>"
   ]
  },
  {
   "cell_type": "markdown",
   "metadata": {},
   "source": [
    "#### Решение"
   ]
  },
  {
   "cell_type": "code",
   "execution_count": 44,
   "metadata": {
    "collapsed": true
   },
   "outputs": [],
   "source": [
    "# Опишите исключение InstanceCountExeption\n",
    "class InstanceCountExeption(Exception):\n",
    "    def __init__(self,*args,**kwargs):\n",
    "        Exception.__init__(self,*args,**kwargs)"
   ]
  },
  {
   "cell_type": "code",
   "execution_count": 72,
   "metadata": {
    "collapsed": true
   },
   "outputs": [],
   "source": [
    "# Опишите мета класс InstanceCountExeptioner\n",
    "class InstanceCountExeptioner(type):\n",
    "#     counter = Counter()\n",
    "#     max_instane_counts = defaultdict(int)\n",
    "    \n",
    "    def __new__(cls, name, bases, attrs):\n",
    "#         max_instane_counts[name] = attrs.get('__max_instane_count__', 2)\n",
    "        print(\"new class: \", name)\n",
    "        if attrs.get('__max_instane_count__') is None:\n",
    "            attrs['__max_instane_count__'] = 2\n",
    "        return super().__new__(cls, name, bases, attrs)\n",
    "    \n",
    "    def __init__(cls, name, bases, attrs):\n",
    "#         if counter[name] >= max_instane_counts[name]:\n",
    "#             raise InstanceCountExeption(\"You can't create new object of this class. Delete some old object.\")\n",
    "#         counter[name] += 1\n",
    "        print(\"init class: \", name)\n",
    "        if attrs['__max_instane_count__'] <= 0:\n",
    "            raise InstanceCountExeption(\"You can't create new object of this class. Delete some old object.\")\n",
    "        attrs['__max_instane_count__'] -= 1\n",
    "        return super().__init__(name, bases, attrs)\n",
    "    \n",
    "    def __del__(cls, name, bases, attrs):\n",
    "#         if counter[name] > 0:\n",
    "#             counter[name] -= 1\n",
    "        attrs['__max_instane_count__'] += 1\n",
    "        return super().__del__(name, bases, attrs)"
   ]
  },
  {
   "cell_type": "markdown",
   "metadata": {},
   "source": [
    "#### Протестируйте свое решение"
   ]
  },
  {
   "cell_type": "code",
   "execution_count": 73,
   "metadata": {},
   "outputs": [
    {
     "name": "stdout",
     "output_type": "stream",
     "text": [
      "new class:  TestInstanceCountExeptionerA\n",
      "init class:  TestInstanceCountExeptionerA\n",
      "new class:  TestInstanceCountExeptionerB\n",
      "init class:  TestInstanceCountExeptionerB\n"
     ]
    }
   ],
   "source": [
    "class TestInstanceCountExeptionerA(metaclass=InstanceCountExeptioner):\n",
    "    __max_instance_count__ = 2\n",
    "\n",
    "    def __init__(self):\n",
    "        self.a = 1\n",
    "\n",
    "    def get(self):\n",
    "        return self.a\n",
    "\n",
    "\n",
    "class TestInstanceCountExeptionerB(metaclass=InstanceCountExeptioner):\n",
    "    __max_instance_count__ = 3\n",
    "\n",
    "    def __init__(self):\n",
    "        self.b = 2\n",
    "\n",
    "    def get(self):\n",
    "        return self.b\n",
    "\n",
    "    \n",
    "def test_create():\n",
    "    a1 = TestInstanceCountExeptionerA()\n",
    "    a2 = TestInstanceCountExeptionerA()\n",
    "    b = TestInstanceCountExeptionerB()\n",
    "    print(a1.get())\n",
    "    print(b.get())\n",
    "    del a1\n",
    "    a3 = TestInstanceCountExeptionerA()\n",
    "\n",
    "def test_fail_create_a():\n",
    "    a1 = TestInstanceCountExeptionerA()\n",
    "    a2 = TestInstanceCountExeptionerA()\n",
    "    try:\n",
    "        a3 = TestInstanceCountExeptionerA()\n",
    "    except InstanceCountExeption as e:\n",
    "        print(e)\n",
    "    \n",
    "\n",
    "def test_fail_create_b():\n",
    "    b1 = TestInstanceCountExeptionerB()\n",
    "    b2 = TestInstanceCountExeptionerB()\n",
    "    b3 = TestInstanceCountExeptionerB()\n",
    "    b5 = TestInstanceCountExeptionerB()\n",
    "    b6 = TestInstanceCountExeptionerB()\n",
    "    try:\n",
    "        b4 = TestInstanceCountExeptionerB()\n",
    "    except InstanceCountExeption as e:\n",
    "        print(e)"
   ]
  },
  {
   "cell_type": "code",
   "execution_count": 74,
   "metadata": {},
   "outputs": [
    {
     "name": "stdout",
     "output_type": "stream",
     "text": [
      "1\n",
      "2\n"
     ]
    }
   ],
   "source": [
    "test_create()"
   ]
  },
  {
   "cell_type": "code",
   "execution_count": 75,
   "metadata": {
    "collapsed": true
   },
   "outputs": [],
   "source": [
    "test_fail_create_a()"
   ]
  },
  {
   "cell_type": "code",
   "execution_count": 76,
   "metadata": {
    "collapsed": true
   },
   "outputs": [],
   "source": [
    "test_fail_create_b()"
   ]
  },
  {
   "cell_type": "code",
   "execution_count": null,
   "metadata": {
    "collapsed": true
   },
   "outputs": [],
   "source": []
  },
  {
   "cell_type": "markdown",
   "metadata": {},
   "source": [
    "## 3. JSONClassCreator (0.6 баллов)\n",
    "Напишите метакласс, который будет по json представлению строить новый класс и обратно. Класс должен уметь следующее:\n",
    "* Поддерживать сохранение и получение магических функций класса.\n",
    "* Поддерживать сохранение и получение обычных функций.\n",
    "* Поддерживать сохранение полей со стандартными типами.\n",
    "* Уберите из сохранения следующие поля и методы: ['\\_\\_dict\\_\\_', '\\_\\_weakref\\_\\_', '\\_\\_module\\_\\_', '\\_\\_init\\_\\_']\n",
    "* У создаваемого класса должна быть функция to_json_str\n",
    "\n",
    "Формат json строки должен быть следующий:\n",
    "\n",
    "<code>\n",
    "{\n",
    "    \"name\": название класса,\n",
    "    \"bases\": базовые классы,\n",
    "    \"methods\": методы класса,\n",
    "    \"attrs\": поля класса\n",
    "}\n",
    "</code>\n",
    "\n",
    "Рекомендации:\n",
    "* Для получения кода функций используйте модуль <a href=\"http://python-lab.ru/documentation/27/stdlib/inspect.html\">inspect</a>.\n",
    "* Для того, чтобы запустить код функций, можно использовать exec.\n",
    "* Можно не исправлять ошибку типа OSError: could not get source code - возникает для функций, полученных с помощью exec."
   ]
  },
  {
   "cell_type": "markdown",
   "metadata": {},
   "source": [
    "#### Пример использования"
   ]
  },
  {
   "cell_type": "code",
   "execution_count": 2,
   "metadata": {},
   "outputs": [],
   "source": [
    "import json\n",
    "\n",
    "\n",
    "class ParentTest1(object):\n",
    "    pass\n",
    "\n",
    "class ParentTest2(object):\n",
    "    pass\n",
    "\n",
    "class Test(ParentTest1, ParentTest2):\n",
    "    \"\"\"Тестовый класс\"\"\"\n",
    "\n",
    "    val = [1, 2, 3]\n",
    "\n",
    "    def f(self, x):\n",
    "        print(x)\n",
    "    \n",
    "    def __repr__(self):\n",
    "        return \"Test(val={})\".format(self.val)\n",
    "\n",
    "    def __str__(self):\n",
    "        return \"Test(val={})\".format(self.val)\n",
    "\n",
    "    pass"
   ]
  },
  {
   "cell_type": "code",
   "execution_count": 5,
   "metadata": {},
   "outputs": [
    {
     "name": "stdout",
     "output_type": "stream",
     "text": [
      "('name', 'Test')\n",
      "('bases', ['ParentTest1', 'ParentTest2'])\n",
      "('methods', {'f': 'def f(self, x):\\n        print(x)', '__repr__': 'def __repr__(self):\\n        return \"Test(val={})\".format(self.val)', '__str__': 'def __str__(self):\\n        return \"Test(val={})\".format(self.val)'})\n",
      "('attrs', {'__doc__': 'Тестовый класс', 'val': [1, 2, 3]})\n"
     ]
    }
   ],
   "source": [
    "print(*json.loads(JSONClassCreator.to_json_str(Test)).items(), sep=\"\\n\")"
   ]
  },
  {
   "cell_type": "code",
   "execution_count": 6,
   "metadata": {
    "collapsed": true
   },
   "outputs": [],
   "source": [
    "tmp = JSONClassCreator(JSONClassCreator.to_json_str(Test))"
   ]
  },
  {
   "cell_type": "code",
   "execution_count": 7,
   "metadata": {},
   "outputs": [
    {
     "name": "stdout",
     "output_type": "stream",
     "text": [
      "hi\n"
     ]
    },
    {
     "data": {
      "text/plain": [
       "(Test(val=[1, 2, 3]), None, [1, 2, 3], 'Тестовый класс')"
      ]
     },
     "execution_count": 7,
     "metadata": {},
     "output_type": "execute_result"
    }
   ],
   "source": [
    "tmp_obj = tmp()\n",
    "tmp_obj, tmp_obj.f(\"hi\"), tmp.val, tmp.__doc__"
   ]
  },
  {
   "cell_type": "code",
   "execution_count": 10,
   "metadata": {},
   "outputs": [
    {
     "data": {
      "text/plain": [
       "mappingproxy({'__doc__': 'Тестовый класс',\n",
       "              '__module__': '__main__',\n",
       "              '__repr__': <function __main__.__repr__>,\n",
       "              '__str__': <function __main__.__str__>,\n",
       "              'f': <function __main__.f>,\n",
       "              'to_json_str': <function __main__.JSONClassCreator.to_json_str>,\n",
       "              'val': [1, 2, 3]})"
      ]
     },
     "execution_count": 10,
     "metadata": {},
     "output_type": "execute_result"
    }
   ],
   "source": [
    "tmp.__dict__"
   ]
  },
  {
   "cell_type": "markdown",
   "metadata": {},
   "source": [
    "#### Решение"
   ]
  },
  {
   "cell_type": "code",
   "execution_count": null,
   "metadata": {
    "collapsed": true
   },
   "outputs": [],
   "source": [
    "import inspect\n",
    "\n",
    "\n",
    "class JSONClassCreator(type):\n",
    "    def __new__(mcls, json_str):\n",
    "        <your code here>\n",
    "\n",
    "    def to_json_str(cls):\n",
    "        exclude = ['__dict__', '__weakref__', '__module__', '__init__']\n",
    "        <your code here>\n",
    "\n",
    "        return json.dumps({\n",
    "            \"name\": <your code here>,\n",
    "            \"bases\": <your code here>,\n",
    "            \"methods\": <your code here>,\n",
    "            \"attrs\": <your code here>\n",
    "        })\n",
    "\n",
    "    pass\n"
   ]
  },
  {
   "cell_type": "markdown",
   "metadata": {},
   "source": [
    "#### Проверьте свое решение на примере"
   ]
  },
  {
   "cell_type": "code",
   "execution_count": null,
   "metadata": {
    "collapsed": true
   },
   "outputs": [],
   "source": []
  }
 ],
 "metadata": {
  "kernelspec": {
   "display_name": "Python 3",
   "language": "python",
   "name": "python3"
  },
  "language_info": {
   "codemirror_mode": {
    "name": "ipython",
    "version": 3
   },
   "file_extension": ".py",
   "mimetype": "text/x-python",
   "name": "python",
   "nbconvert_exporter": "python",
   "pygments_lexer": "ipython3",
   "version": "3.6.1"
  }
 },
 "nbformat": 4,
 "nbformat_minor": 2
}
