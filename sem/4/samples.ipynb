{
 "cells": [
  {
   "cell_type": "code",
   "execution_count": 1,
   "metadata": {
    "collapsed": true
   },
   "outputs": [],
   "source": [
    "%load_ext autoreload\n",
    "\n",
    "%autoreload 2"
   ]
  },
  {
   "cell_type": "markdown",
   "metadata": {},
   "source": [
    "# Анонимные функции"
   ]
  },
  {
   "cell_type": "code",
   "execution_count": 2,
   "metadata": {},
   "outputs": [
    {
     "name": "stdout",
     "output_type": "stream",
     "text": [
      "ABCDEFGHIJKLMNOPQRSTUVWXYZ\n",
      "abcdefghijklmnopqrstuvwxyz\n"
     ]
    }
   ],
   "source": [
    "from string import ascii_lowercase, ascii_uppercase\n",
    "\n",
    "upper = lambda x: x.upper()\n",
    "print(*map(upper, ascii_lowercase), sep=\"\")\n",
    "print(*map(lambda x: x.lower(), ascii_uppercase), sep=\"\")"
   ]
  },
  {
   "cell_type": "code",
   "execution_count": 6,
   "metadata": {},
   "outputs": [
    {
     "data": {
      "text/plain": [
       "<function __main__.<lambda>>"
      ]
     },
     "execution_count": 6,
     "metadata": {},
     "output_type": "execute_result"
    }
   ],
   "source": [
    "upper"
   ]
  },
  {
   "cell_type": "markdown",
   "metadata": {},
   "source": [
    "# Области видимости переменных"
   ]
  },
  {
   "cell_type": "markdown",
   "metadata": {
    "collapsed": true
   },
   "source": [
    "### Work flow constructions"
   ]
  },
  {
   "cell_type": "code",
   "execution_count": 7,
   "metadata": {},
   "outputs": [
    {
     "name": "stdout",
     "output_type": "stream",
     "text": [
      "99 9\n"
     ]
    }
   ],
   "source": [
    "for index in range(100):\n",
    "    sub_index = index // 10\n",
    "    pass\n",
    "print(index, sub_index)"
   ]
  },
  {
   "cell_type": "code",
   "execution_count": 8,
   "metadata": {},
   "outputs": [
    {
     "name": "stdout",
     "output_type": "stream",
     "text": [
      "100 True\n"
     ]
    }
   ],
   "source": [
    "outer_int = 100\n",
    "if outer_int > 10:\n",
    "    inner_checker = True\n",
    "else:\n",
    "    inner_checker = False\n",
    "print(outer_int, inner_checker)"
   ]
  },
  {
   "cell_type": "code",
   "execution_count": 9,
   "metadata": {},
   "outputs": [
    {
     "name": "stdout",
     "output_type": "stream",
     "text": [
      "100 False\n"
     ]
    }
   ],
   "source": [
    "outer_int = 100\n",
    "if outer_int < 10:\n",
    "    inner_checker = True\n",
    "else:\n",
    "    inner_checker = False\n",
    "print(outer_int, inner_checker)"
   ]
  },
  {
   "cell_type": "code",
   "execution_count": 10,
   "metadata": {},
   "outputs": [
    {
     "name": "stdout",
     "output_type": "stream",
     "text": [
      "9 9 81 81\n"
     ]
    }
   ],
   "source": [
    "for i in range(10):\n",
    "    for j in range(10):\n",
    "        k = i * j\n",
    "        if k > 50:\n",
    "            z = k\n",
    "print(i, j, k, z)"
   ]
  },
  {
   "cell_type": "markdown",
   "metadata": {},
   "source": [
    "### Functions"
   ]
  },
  {
   "cell_type": "code",
   "execution_count": 11,
   "metadata": {
    "collapsed": true
   },
   "outputs": [],
   "source": [
    "def mul(*args):\n",
    "    if not len(args):\n",
    "        print(\"Length of args is zero!\")\n",
    "    res = 1\n",
    "    for arg in args:\n",
    "        if isinstance(arg, int) or isinstance(arg, float):\n",
    "            res *= arg\n",
    "        else:\n",
    "            print(\"Skip arg {} (not int or float)\".format(arg))\n",
    "    return res"
   ]
  },
  {
   "cell_type": "code",
   "execution_count": 12,
   "metadata": {},
   "outputs": [
    {
     "ename": "NameError",
     "evalue": "name 'res' is not defined",
     "output_type": "error",
     "traceback": [
      "\u001b[0;31m---------------------------------------------------------------------------\u001b[0m",
      "\u001b[0;31mNameError\u001b[0m                                 Traceback (most recent call last)",
      "\u001b[0;32m<ipython-input-12-2bc7c0cc4173>\u001b[0m in \u001b[0;36m<module>\u001b[0;34m()\u001b[0m\n\u001b[0;32m----> 1\u001b[0;31m \u001b[0mprint\u001b[0m\u001b[0;34m(\u001b[0m\u001b[0mres\u001b[0m\u001b[0;34m)\u001b[0m\u001b[0;34m\u001b[0m\u001b[0m\n\u001b[0m",
      "\u001b[0;31mNameError\u001b[0m: name 'res' is not defined"
     ]
    }
   ],
   "source": [
    "print(res)"
   ]
  },
  {
   "cell_type": "code",
   "execution_count": 13,
   "metadata": {},
   "outputs": [
    {
     "name": "stdout",
     "output_type": "stream",
     "text": [
      "Length of args is zero!\n"
     ]
    },
    {
     "data": {
      "text/plain": [
       "1"
      ]
     },
     "execution_count": 13,
     "metadata": {},
     "output_type": "execute_result"
    }
   ],
   "source": [
    "mul()"
   ]
  },
  {
   "cell_type": "code",
   "execution_count": 14,
   "metadata": {
    "scrolled": true
   },
   "outputs": [
    {
     "data": {
      "text/plain": [
       "12"
      ]
     },
     "execution_count": 14,
     "metadata": {},
     "output_type": "execute_result"
    }
   ],
   "source": [
    "mul(1, 2, 3, -1, -2)"
   ]
  },
  {
   "cell_type": "code",
   "execution_count": 15,
   "metadata": {},
   "outputs": [
    {
     "name": "stdout",
     "output_type": "stream",
     "text": [
      "Skip arg -2 (not int or float)\n"
     ]
    },
    {
     "data": {
      "text/plain": [
       "-6"
      ]
     },
     "execution_count": 15,
     "metadata": {},
     "output_type": "execute_result"
    }
   ],
   "source": [
    "mul(1, 2, 3, -1, \"-2\")"
   ]
  },
  {
   "cell_type": "code",
   "execution_count": 16,
   "metadata": {},
   "outputs": [
    {
     "name": "stdout",
     "output_type": "stream",
     "text": [
      "Outer index 0\n",
      "Outer index 1\n",
      "Outer index 2\n",
      "Outer index 3\n",
      "Outer index 4\n"
     ]
    }
   ],
   "source": [
    "def print_outer_index():\n",
    "    print(\"Outer index {}\".format(index_))\n",
    "for index_ in range(5):\n",
    "    print_outer_index()"
   ]
  },
  {
   "cell_type": "markdown",
   "metadata": {},
   "source": [
    "### LEBG Rule :)"
   ]
  },
  {
   "cell_type": "code",
   "execution_count": 17,
   "metadata": {},
   "outputs": [
    {
     "data": {
      "text/plain": [
       "10"
      ]
     },
     "execution_count": 17,
     "metadata": {},
     "output_type": "execute_result"
    }
   ],
   "source": [
    "# built-in\n",
    "sum(range(5))"
   ]
  },
  {
   "cell_type": "code",
   "execution_count": 18,
   "metadata": {
    "collapsed": true
   },
   "outputs": [],
   "source": [
    "# global\n",
    "sum = 9"
   ]
  },
  {
   "cell_type": "code",
   "execution_count": 19,
   "metadata": {
    "collapsed": true
   },
   "outputs": [],
   "source": [
    "def outer():\n",
    "    # enclosing\n",
    "    sum = 8\n",
    "    def inner():\n",
    "        # enclosing\n",
    "        def inner2():\n",
    "            # local\n",
    "            sum = 6\n",
    "            print(sum)\n",
    "        print(sum)\n",
    "        inner2()\n",
    "    inner()\n",
    "    print(sum)"
   ]
  },
  {
   "cell_type": "code",
   "execution_count": 20,
   "metadata": {},
   "outputs": [
    {
     "name": "stdout",
     "output_type": "stream",
     "text": [
      "8\n",
      "6\n",
      "8\n"
     ]
    },
    {
     "data": {
      "text/plain": [
       "(9, None)"
      ]
     },
     "execution_count": 20,
     "metadata": {},
     "output_type": "execute_result"
    }
   ],
   "source": [
    "sum, outer()"
   ]
  },
  {
   "cell_type": "markdown",
   "metadata": {},
   "source": [
    "### WTF?"
   ]
  },
  {
   "cell_type": "code",
   "execution_count": 21,
   "metadata": {},
   "outputs": [
    {
     "name": "stdout",
     "output_type": "stream",
     "text": [
      "10\n"
     ]
    }
   ],
   "source": [
    "a = 10\n",
    "def f():\n",
    "    print(a)\n",
    "f()"
   ]
  },
  {
   "cell_type": "code",
   "execution_count": 22,
   "metadata": {},
   "outputs": [
    {
     "ename": "UnboundLocalError",
     "evalue": "local variable 'a' referenced before assignment",
     "output_type": "error",
     "traceback": [
      "\u001b[0;31m---------------------------------------------------------------------------\u001b[0m",
      "\u001b[0;31mUnboundLocalError\u001b[0m                         Traceback (most recent call last)",
      "\u001b[0;32m<ipython-input-22-b4e794763a39>\u001b[0m in \u001b[0;36m<module>\u001b[0;34m()\u001b[0m\n\u001b[1;32m      3\u001b[0m     \u001b[0mprint\u001b[0m\u001b[0;34m(\u001b[0m\u001b[0ma\u001b[0m\u001b[0;34m)\u001b[0m\u001b[0;34m\u001b[0m\u001b[0m\n\u001b[1;32m      4\u001b[0m     \u001b[0ma\u001b[0m \u001b[0;34m+=\u001b[0m \u001b[0;36m5\u001b[0m\u001b[0;34m\u001b[0m\u001b[0m\n\u001b[0;32m----> 5\u001b[0;31m \u001b[0mf\u001b[0m\u001b[0;34m(\u001b[0m\u001b[0;34m)\u001b[0m\u001b[0;34m\u001b[0m\u001b[0m\n\u001b[0m",
      "\u001b[0;32m<ipython-input-22-b4e794763a39>\u001b[0m in \u001b[0;36mf\u001b[0;34m()\u001b[0m\n\u001b[1;32m      1\u001b[0m \u001b[0ma\u001b[0m \u001b[0;34m=\u001b[0m \u001b[0;36m10\u001b[0m\u001b[0;34m\u001b[0m\u001b[0m\n\u001b[1;32m      2\u001b[0m \u001b[0;32mdef\u001b[0m \u001b[0mf\u001b[0m\u001b[0;34m(\u001b[0m\u001b[0;34m)\u001b[0m\u001b[0;34m:\u001b[0m\u001b[0;34m\u001b[0m\u001b[0m\n\u001b[0;32m----> 3\u001b[0;31m     \u001b[0mprint\u001b[0m\u001b[0;34m(\u001b[0m\u001b[0ma\u001b[0m\u001b[0;34m)\u001b[0m\u001b[0;34m\u001b[0m\u001b[0m\n\u001b[0m\u001b[1;32m      4\u001b[0m     \u001b[0ma\u001b[0m \u001b[0;34m+=\u001b[0m \u001b[0;36m5\u001b[0m\u001b[0;34m\u001b[0m\u001b[0m\n\u001b[1;32m      5\u001b[0m \u001b[0mf\u001b[0m\u001b[0;34m(\u001b[0m\u001b[0;34m)\u001b[0m\u001b[0;34m\u001b[0m\u001b[0m\n",
      "\u001b[0;31mUnboundLocalError\u001b[0m: local variable 'a' referenced before assignment"
     ]
    }
   ],
   "source": [
    "a = 10\n",
    "def f():\n",
    "    print(a)\n",
    "    a += 5 \n",
    "f()"
   ]
  },
  {
   "cell_type": "code",
   "execution_count": 23,
   "metadata": {},
   "outputs": [
    {
     "ename": "UnboundLocalError",
     "evalue": "local variable 'a' referenced before assignment",
     "output_type": "error",
     "traceback": [
      "\u001b[0;31m---------------------------------------------------------------------------\u001b[0m",
      "\u001b[0;31mUnboundLocalError\u001b[0m                         Traceback (most recent call last)",
      "\u001b[0;32m<ipython-input-23-7421dde9c456>\u001b[0m in \u001b[0;36m<module>\u001b[0;34m()\u001b[0m\n\u001b[1;32m      3\u001b[0m     \u001b[0mprint\u001b[0m\u001b[0;34m(\u001b[0m\u001b[0ma\u001b[0m\u001b[0;34m)\u001b[0m\u001b[0;34m\u001b[0m\u001b[0m\n\u001b[1;32m      4\u001b[0m     \u001b[0ma\u001b[0m \u001b[0;34m=\u001b[0m \u001b[0;36m5\u001b[0m\u001b[0;34m\u001b[0m\u001b[0m\n\u001b[0;32m----> 5\u001b[0;31m \u001b[0mf\u001b[0m\u001b[0;34m(\u001b[0m\u001b[0;34m)\u001b[0m\u001b[0;34m\u001b[0m\u001b[0m\n\u001b[0m",
      "\u001b[0;32m<ipython-input-23-7421dde9c456>\u001b[0m in \u001b[0;36mf\u001b[0;34m()\u001b[0m\n\u001b[1;32m      1\u001b[0m \u001b[0ma\u001b[0m \u001b[0;34m=\u001b[0m \u001b[0;36m10\u001b[0m\u001b[0;34m\u001b[0m\u001b[0m\n\u001b[1;32m      2\u001b[0m \u001b[0;32mdef\u001b[0m \u001b[0mf\u001b[0m\u001b[0;34m(\u001b[0m\u001b[0;34m)\u001b[0m\u001b[0;34m:\u001b[0m\u001b[0;34m\u001b[0m\u001b[0m\n\u001b[0;32m----> 3\u001b[0;31m     \u001b[0mprint\u001b[0m\u001b[0;34m(\u001b[0m\u001b[0ma\u001b[0m\u001b[0;34m)\u001b[0m\u001b[0;34m\u001b[0m\u001b[0m\n\u001b[0m\u001b[1;32m      4\u001b[0m     \u001b[0ma\u001b[0m \u001b[0;34m=\u001b[0m \u001b[0;36m5\u001b[0m\u001b[0;34m\u001b[0m\u001b[0m\n\u001b[1;32m      5\u001b[0m \u001b[0mf\u001b[0m\u001b[0;34m(\u001b[0m\u001b[0;34m)\u001b[0m\u001b[0;34m\u001b[0m\u001b[0m\n",
      "\u001b[0;31mUnboundLocalError\u001b[0m: local variable 'a' referenced before assignment"
     ]
    }
   ],
   "source": [
    "a = 10\n",
    "def f():\n",
    "    print(a)\n",
    "    a = 5 \n",
    "f()"
   ]
  },
  {
   "cell_type": "markdown",
   "metadata": {},
   "source": [
    "### Globals and Locals"
   ]
  },
  {
   "cell_type": "code",
   "execution_count": 24,
   "metadata": {},
   "outputs": [
    {
     "data": {
      "text/plain": [
       "True"
      ]
     },
     "execution_count": 24,
     "metadata": {},
     "output_type": "execute_result"
    }
   ],
   "source": [
    "globals() is locals()"
   ]
  },
  {
   "cell_type": "code",
   "execution_count": 25,
   "metadata": {
    "collapsed": true
   },
   "outputs": [],
   "source": [
    "a = 10\n",
    "def get_locals(x):\n",
    "    a = 1\n",
    "    print(locals())"
   ]
  },
  {
   "cell_type": "code",
   "execution_count": 26,
   "metadata": {},
   "outputs": [
    {
     "name": "stdout",
     "output_type": "stream",
     "text": [
      "{'a': 1, 'x': 5}\n"
     ]
    }
   ],
   "source": [
    "get_locals(5)"
   ]
  },
  {
   "cell_type": "code",
   "execution_count": 27,
   "metadata": {
    "collapsed": true
   },
   "outputs": [],
   "source": [
    "def get_globals():\n",
    "    sum = 1\n",
    "    print(globals())"
   ]
  },
  {
   "cell_type": "code",
   "execution_count": 28,
   "metadata": {},
   "outputs": [
    {
     "name": "stdout",
     "output_type": "stream",
     "text": [
      "{'__name__': '__main__', '__doc__': 'Automatically created module for IPython interactive environment', '__package__': None, '__loader__': None, '__spec__': None, '__builtin__': <module 'builtins' (built-in)>, '__builtins__': <module 'builtins' (built-in)>, '_ih': ['', \"get_ipython().magic('load_ext autoreload')\\n\\nget_ipython().magic('autoreload 2')\", 'from string import ascii_lowercase, ascii_uppercase\\n\\nupper = lambda x: x.upper()\\nprint(*map(upper, ascii_lowercase), sep=\"\")\\nprint(*map(lambda x: x.lower(), ascii_uppercase), sep=\"\")', 'type(*map(lambda x: x.lower(), ascii_uppercase))', 'type(map(lambda x: x.lower(), ascii_uppercase))', 'type(*map(lambda x: x.lower(), ascii_uppercase))', 'upper', 'for index in range(100):\\n    sub_index = index // 10\\n    pass\\nprint(index, sub_index)', 'outer_int = 100\\nif outer_int > 10:\\n    inner_checker = True\\nelse:\\n    inner_checker = False\\nprint(outer_int, inner_checker)', 'outer_int = 100\\nif outer_int < 10:\\n    inner_checker = True\\nelse:\\n    inner_checker = False\\nprint(outer_int, inner_checker)', 'for i in range(10):\\n    for j in range(10):\\n        k = i * j\\n        if k > 50:\\n            z = k\\nprint(i, j, k, z)', 'def mul(*args):\\n    if not len(args):\\n        print(\"Length of args is zero!\")\\n    res = 1\\n    for arg in args:\\n        if isinstance(arg, int) or isinstance(arg, float):\\n            res *= arg\\n        else:\\n            print(\"Skip arg {} (not int or float)\".format(arg))\\n    return res', 'print(res)', 'mul()', 'mul(1, 2, 3, -1, -2)', 'mul(1, 2, 3, -1, \"-2\")', 'def print_outer_index():\\n    print(\"Outer index {}\".format(index_))\\nfor index_ in range(5):\\n    print_outer_index()', '# built-in\\nsum(range(5))', '# global\\nsum = 9', 'def outer():\\n    # enclosing\\n    sum = 8\\n    def inner():\\n        # enclosing\\n        def inner2():\\n            # local\\n            sum = 6\\n            print(sum)\\n        print(sum)\\n        inner2()\\n    inner()\\n    print(sum)', 'sum, outer()', 'a = 10\\ndef f():\\n    print(a)\\nf()', 'a = 10\\ndef f():\\n    print(a)\\n    a += 5 \\nf()', 'a = 10\\ndef f():\\n    print(a)\\n    a = 5 \\nf()', 'globals() is locals()', 'a = 10\\ndef get_locals(x):\\n    a = 1\\n    print(locals())', 'get_locals(5)', 'def get_globals():\\n    sum = 1\\n    print(globals())', 'get_globals()'], '_oh': {4: <class 'map'>, 6: <function <lambda> at 0x10ec06268>, 13: 1, 14: 12, 15: -6, 17: 10, 20: (9, None), 24: True}, '_dh': ['/Users/maxim/code/git/python_course/sem/4'], '_sh': <module 'IPython.core.shadowns' from '/usr/local/lib/python3.6/site-packages/IPython/core/shadowns.py'>, 'In': ['', \"get_ipython().magic('load_ext autoreload')\\n\\nget_ipython().magic('autoreload 2')\", 'from string import ascii_lowercase, ascii_uppercase\\n\\nupper = lambda x: x.upper()\\nprint(*map(upper, ascii_lowercase), sep=\"\")\\nprint(*map(lambda x: x.lower(), ascii_uppercase), sep=\"\")', 'type(*map(lambda x: x.lower(), ascii_uppercase))', 'type(map(lambda x: x.lower(), ascii_uppercase))', 'type(*map(lambda x: x.lower(), ascii_uppercase))', 'upper', 'for index in range(100):\\n    sub_index = index // 10\\n    pass\\nprint(index, sub_index)', 'outer_int = 100\\nif outer_int > 10:\\n    inner_checker = True\\nelse:\\n    inner_checker = False\\nprint(outer_int, inner_checker)', 'outer_int = 100\\nif outer_int < 10:\\n    inner_checker = True\\nelse:\\n    inner_checker = False\\nprint(outer_int, inner_checker)', 'for i in range(10):\\n    for j in range(10):\\n        k = i * j\\n        if k > 50:\\n            z = k\\nprint(i, j, k, z)', 'def mul(*args):\\n    if not len(args):\\n        print(\"Length of args is zero!\")\\n    res = 1\\n    for arg in args:\\n        if isinstance(arg, int) or isinstance(arg, float):\\n            res *= arg\\n        else:\\n            print(\"Skip arg {} (not int or float)\".format(arg))\\n    return res', 'print(res)', 'mul()', 'mul(1, 2, 3, -1, -2)', 'mul(1, 2, 3, -1, \"-2\")', 'def print_outer_index():\\n    print(\"Outer index {}\".format(index_))\\nfor index_ in range(5):\\n    print_outer_index()', '# built-in\\nsum(range(5))', '# global\\nsum = 9', 'def outer():\\n    # enclosing\\n    sum = 8\\n    def inner():\\n        # enclosing\\n        def inner2():\\n            # local\\n            sum = 6\\n            print(sum)\\n        print(sum)\\n        inner2()\\n    inner()\\n    print(sum)', 'sum, outer()', 'a = 10\\ndef f():\\n    print(a)\\nf()', 'a = 10\\ndef f():\\n    print(a)\\n    a += 5 \\nf()', 'a = 10\\ndef f():\\n    print(a)\\n    a = 5 \\nf()', 'globals() is locals()', 'a = 10\\ndef get_locals(x):\\n    a = 1\\n    print(locals())', 'get_locals(5)', 'def get_globals():\\n    sum = 1\\n    print(globals())', 'get_globals()'], 'Out': {4: <class 'map'>, 6: <function <lambda> at 0x10ec06268>, 13: 1, 14: 12, 15: -6, 17: 10, 20: (9, None), 24: True}, 'get_ipython': <bound method InteractiveShell.get_ipython of <ipykernel.zmqshell.ZMQInteractiveShell object at 0x10ee098d0>>, 'exit': <IPython.core.autocall.ZMQExitAutocall object at 0x10ee5e710>, 'quit': <IPython.core.autocall.ZMQExitAutocall object at 0x10ee5e710>, '_': True, '__': (9, None), '___': 10, '_i': 'def get_globals():\\n    sum = 1\\n    print(globals())', '_ii': 'get_locals(5)', '_iii': 'a = 10\\ndef get_locals(x):\\n    a = 1\\n    print(locals())', '_i1': '%load_ext autoreload\\n\\n%autoreload 2', '_i2': 'from string import ascii_lowercase, ascii_uppercase\\n\\nupper = lambda x: x.upper()\\nprint(*map(upper, ascii_lowercase), sep=\"\")\\nprint(*map(lambda x: x.lower(), ascii_uppercase), sep=\"\")', 'ascii_lowercase': 'abcdefghijklmnopqrstuvwxyz', 'ascii_uppercase': 'ABCDEFGHIJKLMNOPQRSTUVWXYZ', 'upper': <function <lambda> at 0x10ec06268>, '_i3': 'type(*map(lambda x: x.lower(), ascii_uppercase))', '_i4': 'type(map(lambda x: x.lower(), ascii_uppercase))', '_4': <class 'map'>, '_i5': 'type(*map(lambda x: x.lower(), ascii_uppercase))', '_i6': 'upper', '_6': <function <lambda> at 0x10ec06268>, '_i7': 'for index in range(100):\\n    sub_index = index // 10\\n    pass\\nprint(index, sub_index)', 'index': 99, 'sub_index': 9, '_i8': 'outer_int = 100\\nif outer_int > 10:\\n    inner_checker = True\\nelse:\\n    inner_checker = False\\nprint(outer_int, inner_checker)', 'outer_int': 100, 'inner_checker': False, '_i9': 'outer_int = 100\\nif outer_int < 10:\\n    inner_checker = True\\nelse:\\n    inner_checker = False\\nprint(outer_int, inner_checker)', '_i10': 'for i in range(10):\\n    for j in range(10):\\n        k = i * j\\n        if k > 50:\\n            z = k\\nprint(i, j, k, z)', 'i': 9, 'j': 9, 'k': 81, 'z': 81, '_i11': 'def mul(*args):\\n    if not len(args):\\n        print(\"Length of args is zero!\")\\n    res = 1\\n    for arg in args:\\n        if isinstance(arg, int) or isinstance(arg, float):\\n            res *= arg\\n        else:\\n            print(\"Skip arg {} (not int or float)\".format(arg))\\n    return res', 'mul': <function mul at 0x10efaf1e0>, '_i12': 'print(res)', '_i13': 'mul()', '_13': 1, '_i14': 'mul(1, 2, 3, -1, -2)', '_14': 12, '_i15': 'mul(1, 2, 3, -1, \"-2\")', '_15': -6, '_i16': 'def print_outer_index():\\n    print(\"Outer index {}\".format(index_))\\nfor index_ in range(5):\\n    print_outer_index()', 'print_outer_index': <function print_outer_index at 0x10efaf950>, 'index_': 4, '_i17': '# built-in\\nsum(range(5))', '_17': 10, '_i18': '# global\\nsum = 9', 'sum': 9, '_i19': 'def outer():\\n    # enclosing\\n    sum = 8\\n    def inner():\\n        # enclosing\\n        def inner2():\\n            # local\\n            sum = 6\\n            print(sum)\\n        print(sum)\\n        inner2()\\n    inner()\\n    print(sum)', 'outer': <function outer at 0x10efaff28>, '_i20': 'sum, outer()', '_20': (9, None), '_i21': 'a = 10\\ndef f():\\n    print(a)\\nf()', 'a': 10, 'f': <function f at 0x10efaf730>, '_i22': 'a = 10\\ndef f():\\n    print(a)\\n    a += 5 \\nf()', '_i23': 'a = 10\\ndef f():\\n    print(a)\\n    a = 5 \\nf()', '_i24': 'globals() is locals()', '_24': True, '_i25': 'a = 10\\ndef get_locals(x):\\n    a = 1\\n    print(locals())', 'get_locals': <function get_locals at 0x10efaf488>, '_i26': 'get_locals(5)', '_i27': 'def get_globals():\\n    sum = 1\\n    print(globals())', 'get_globals': <function get_globals at 0x10efaf598>, '_i28': 'get_globals()'}\n"
     ]
    }
   ],
   "source": [
    "get_globals()"
   ]
  },
  {
   "cell_type": "code",
   "execution_count": 29,
   "metadata": {},
   "outputs": [
    {
     "name": "stdout",
     "output_type": "stream",
     "text": [
      "out3 {'z': 30}\n",
      "out2 {'out3': <function out1.<locals>.out2.<locals>.out3 at 0x10ef8ed08>, 'y': 20}\n",
      "out1 {'out2': <function out1.<locals>.out2 at 0x10ef8eae8>, 'x': 10}\n"
     ]
    }
   ],
   "source": [
    "def out1(x=10):\n",
    "    def out2(y=20):\n",
    "        def out3(z=30):\n",
    "            print(\"out3 {}\".format(locals()))\n",
    "        out3()\n",
    "        print(\"out2 {}\".format(locals()))\n",
    "    out2()\n",
    "    print(\"out1 {}\".format(locals()))\n",
    "out1()"
   ]
  },
  {
   "cell_type": "markdown",
   "metadata": {},
   "source": [
    "### Присваивание"
   ]
  },
  {
   "cell_type": "code",
   "execution_count": 30,
   "metadata": {},
   "outputs": [
    {
     "data": {
      "text/plain": [
       "1"
      ]
     },
     "execution_count": 30,
     "metadata": {},
     "output_type": "execute_result"
    }
   ],
   "source": [
    "a = 10\n",
    "def f():\n",
    "    a = 1\n",
    "    return a\n",
    "f()"
   ]
  },
  {
   "cell_type": "code",
   "execution_count": 31,
   "metadata": {},
   "outputs": [
    {
     "data": {
      "text/plain": [
       "(10, 1)"
      ]
     },
     "execution_count": 31,
     "metadata": {},
     "output_type": "execute_result"
    }
   ],
   "source": [
    "a, f()"
   ]
  },
  {
   "cell_type": "markdown",
   "metadata": {},
   "source": [
    "### global"
   ]
  },
  {
   "cell_type": "code",
   "execution_count": 32,
   "metadata": {},
   "outputs": [],
   "source": [
    "a = 10\n",
    "def sum_a(x):\n",
    "    global a\n",
    "    a += x\n",
    "    return a"
   ]
  },
  {
   "cell_type": "code",
   "execution_count": 33,
   "metadata": {},
   "outputs": [
    {
     "data": {
      "text/plain": [
       "(10, 11)"
      ]
     },
     "execution_count": 33,
     "metadata": {},
     "output_type": "execute_result"
    }
   ],
   "source": [
    "a, sum_a(1)"
   ]
  },
  {
   "cell_type": "code",
   "execution_count": 34,
   "metadata": {},
   "outputs": [
    {
     "name": "stdout",
     "output_type": "stream",
     "text": [
      "Before calling g: 42\n",
      "Calling g now:\n",
      "After calling g: 42\n",
      "x in main: 43\n"
     ]
    }
   ],
   "source": [
    "x = 40\n",
    "def f():\n",
    "    x = 42\n",
    "    def g():\n",
    "        global x\n",
    "        x = 43\n",
    "    print(\"Before calling g: \" + str(x))\n",
    "    print(\"Calling g now:\")\n",
    "    g()\n",
    "    print(\"After calling g: \" + str(x))\n",
    "\n",
    "f()\n",
    "print(\"x in main: \" + str(x))"
   ]
  },
  {
   "cell_type": "code",
   "execution_count": 35,
   "metadata": {},
   "outputs": [
    {
     "ename": "SyntaxError",
     "evalue": "name 'x' is used prior to global declaration (<ipython-input-35-310ee235a553>, line 5)",
     "output_type": "error",
     "traceback": [
      "\u001b[0;36m  File \u001b[0;32m\"<ipython-input-35-310ee235a553>\"\u001b[0;36m, line \u001b[0;32m5\u001b[0m\n\u001b[0;31m    global x\u001b[0m\n\u001b[0m    ^\u001b[0m\n\u001b[0;31mSyntaxError\u001b[0m\u001b[0;31m:\u001b[0m name 'x' is used prior to global declaration\n"
     ]
    }
   ],
   "source": [
    "x = 10\n",
    "def f():\n",
    "    x = 40\n",
    "    print(x)\n",
    "    global x\n",
    "    x = 20"
   ]
  },
  {
   "cell_type": "markdown",
   "metadata": {},
   "source": [
    "### nonlocal"
   ]
  },
  {
   "cell_type": "code",
   "execution_count": 36,
   "metadata": {},
   "outputs": [
    {
     "name": "stdout",
     "output_type": "stream",
     "text": [
      "Before calling g: 42\n",
      "Calling g now:\n",
      "After calling g: 43\n",
      "x in main: 3\n"
     ]
    }
   ],
   "source": [
    "def f():\n",
    "    x = 42\n",
    "    def g():\n",
    "        nonlocal x\n",
    "        x = 43\n",
    "    print(\"Before calling g: \" + str(x))\n",
    "    print(\"Calling g now:\")\n",
    "    g()\n",
    "    print(\"After calling g: \" + str(x))\n",
    "    \n",
    "x = 3\n",
    "f()\n",
    "print(\"x in main: \" + str(x))"
   ]
  },
  {
   "cell_type": "code",
   "execution_count": 37,
   "metadata": {},
   "outputs": [
    {
     "ename": "SyntaxError",
     "evalue": "name 'x' is used prior to nonlocal declaration (<ipython-input-37-7336c4019f7d>, line 5)",
     "output_type": "error",
     "traceback": [
      "\u001b[0;36m  File \u001b[0;32m\"<ipython-input-37-7336c4019f7d>\"\u001b[0;36m, line \u001b[0;32m5\u001b[0m\n\u001b[0;31m    nonlocal x\u001b[0m\n\u001b[0m    ^\u001b[0m\n\u001b[0;31mSyntaxError\u001b[0m\u001b[0;31m:\u001b[0m name 'x' is used prior to nonlocal declaration\n"
     ]
    }
   ],
   "source": [
    "x = 10\n",
    "def f():\n",
    "    x = 40\n",
    "    print(x)\n",
    "    nonlocal x\n",
    "    x = 20"
   ]
  },
  {
   "cell_type": "code",
   "execution_count": 38,
   "metadata": {},
   "outputs": [
    {
     "ename": "SyntaxError",
     "evalue": "no binding for nonlocal 'x' found (<ipython-input-38-349d08298903>, line 3)",
     "output_type": "error",
     "traceback": [
      "\u001b[0;36m  File \u001b[0;32m\"<ipython-input-38-349d08298903>\"\u001b[0;36m, line \u001b[0;32m3\u001b[0m\n\u001b[0;31m    nonlocal x\u001b[0m\n\u001b[0m    ^\u001b[0m\n\u001b[0;31mSyntaxError\u001b[0m\u001b[0;31m:\u001b[0m no binding for nonlocal 'x' found\n"
     ]
    }
   ],
   "source": [
    "def f():\n",
    "    def g():\n",
    "        nonlocal x\n",
    "        x = 43\n",
    "    print(\"Before calling g: \" + str(x))\n",
    "    print(\"Calling g now:\")\n",
    "    g()\n",
    "    # x = 42\n",
    "    print(\"After calling g: \" + str(x))\n",
    "    \n",
    "x = 3\n",
    "f()\n",
    "print(\"x in main: \" + str(x))"
   ]
  },
  {
   "cell_type": "code",
   "execution_count": 39,
   "metadata": {},
   "outputs": [
    {
     "ename": "UnboundLocalError",
     "evalue": "local variable 'x' referenced before assignment",
     "output_type": "error",
     "traceback": [
      "\u001b[0;31m---------------------------------------------------------------------------\u001b[0m",
      "\u001b[0;31mUnboundLocalError\u001b[0m                         Traceback (most recent call last)",
      "\u001b[0;32m<ipython-input-39-82446bbd3a50>\u001b[0m in \u001b[0;36m<module>\u001b[0;34m()\u001b[0m\n\u001b[1;32m     10\u001b[0m \u001b[0;34m\u001b[0m\u001b[0m\n\u001b[1;32m     11\u001b[0m \u001b[0mx\u001b[0m \u001b[0;34m=\u001b[0m \u001b[0;36m3\u001b[0m\u001b[0;34m\u001b[0m\u001b[0m\n\u001b[0;32m---> 12\u001b[0;31m \u001b[0mf\u001b[0m\u001b[0;34m(\u001b[0m\u001b[0;34m)\u001b[0m\u001b[0;34m\u001b[0m\u001b[0m\n\u001b[0m\u001b[1;32m     13\u001b[0m \u001b[0mprint\u001b[0m\u001b[0;34m(\u001b[0m\u001b[0;34m\"x in main: \"\u001b[0m \u001b[0;34m+\u001b[0m \u001b[0mstr\u001b[0m\u001b[0;34m(\u001b[0m\u001b[0mx\u001b[0m\u001b[0;34m)\u001b[0m\u001b[0;34m)\u001b[0m\u001b[0;34m\u001b[0m\u001b[0m\n",
      "\u001b[0;32m<ipython-input-39-82446bbd3a50>\u001b[0m in \u001b[0;36mf\u001b[0;34m()\u001b[0m\n\u001b[1;32m      3\u001b[0m         \u001b[0;32mnonlocal\u001b[0m \u001b[0mx\u001b[0m\u001b[0;34m\u001b[0m\u001b[0m\n\u001b[1;32m      4\u001b[0m         \u001b[0mx\u001b[0m \u001b[0;34m=\u001b[0m \u001b[0;36m43\u001b[0m\u001b[0;34m\u001b[0m\u001b[0m\n\u001b[0;32m----> 5\u001b[0;31m     \u001b[0mprint\u001b[0m\u001b[0;34m(\u001b[0m\u001b[0;34m\"Before calling g: \"\u001b[0m \u001b[0;34m+\u001b[0m \u001b[0mstr\u001b[0m\u001b[0;34m(\u001b[0m\u001b[0mx\u001b[0m\u001b[0;34m)\u001b[0m\u001b[0;34m)\u001b[0m\u001b[0;34m\u001b[0m\u001b[0m\n\u001b[0m\u001b[1;32m      6\u001b[0m     \u001b[0mprint\u001b[0m\u001b[0;34m(\u001b[0m\u001b[0;34m\"Calling g now:\"\u001b[0m\u001b[0;34m)\u001b[0m\u001b[0;34m\u001b[0m\u001b[0m\n\u001b[1;32m      7\u001b[0m     \u001b[0mg\u001b[0m\u001b[0;34m(\u001b[0m\u001b[0;34m)\u001b[0m\u001b[0;34m\u001b[0m\u001b[0m\n",
      "\u001b[0;31mUnboundLocalError\u001b[0m: local variable 'x' referenced before assignment"
     ]
    }
   ],
   "source": [
    "def f():\n",
    "    def g():\n",
    "        nonlocal x\n",
    "        x = 43\n",
    "    print(\"Before calling g: \" + str(x))\n",
    "    print(\"Calling g now:\")\n",
    "    g()\n",
    "    x = 42\n",
    "    print(\"After calling g: \" + str(x))\n",
    "    \n",
    "x = 3\n",
    "f()\n",
    "print(\"x in main: \" + str(x))"
   ]
  },
  {
   "cell_type": "markdown",
   "metadata": {},
   "source": [
    "### Замыкание"
   ]
  },
  {
   "cell_type": "code",
   "execution_count": 40,
   "metadata": {
    "collapsed": true
   },
   "outputs": [],
   "source": [
    "def build_functions(value=0):\n",
    "    def get():\n",
    "        return value\n",
    "    def put(new_value):\n",
    "        nonlocal value\n",
    "        value = new_value\n",
    "    return get, put"
   ]
  },
  {
   "cell_type": "code",
   "execution_count": 41,
   "metadata": {},
   "outputs": [
    {
     "data": {
      "text/plain": [
       "(10, 0)"
      ]
     },
     "execution_count": 41,
     "metadata": {},
     "output_type": "execute_result"
    }
   ],
   "source": [
    "get1, put1 = build_functions()\n",
    "get2, put2 = build_functions()\n",
    "put1(10)\n",
    "get1(), get2()"
   ]
  },
  {
   "cell_type": "markdown",
   "metadata": {},
   "source": [
    "#### Еще пример"
   ]
  },
  {
   "cell_type": "code",
   "execution_count": 42,
   "metadata": {
    "collapsed": true
   },
   "outputs": [],
   "source": [
    "def outer_func(x):\n",
    "    def inner_func(y):\n",
    "        # inner_func замкнуло в себе х\n",
    "        print(locals())\n",
    "        return y + x\n",
    "    return inner_func"
   ]
  },
  {
   "cell_type": "code",
   "execution_count": 43,
   "metadata": {},
   "outputs": [
    {
     "name": "stdout",
     "output_type": "stream",
     "text": [
      "{'y': 10, 'x': 10}\n",
      "{'y': 10, 'x': 20}\n"
     ]
    },
    {
     "data": {
      "text/plain": [
       "(20, 30)"
      ]
     },
     "execution_count": 43,
     "metadata": {},
     "output_type": "execute_result"
    }
   ],
   "source": [
    "inner_func1 = outer_func(10)\n",
    "inner_func2 = outer_func(20)\n",
    "inner_func1(10), inner_func2(10)"
   ]
  },
  {
   "cell_type": "code",
   "execution_count": 44,
   "metadata": {},
   "outputs": [
    {
     "name": "stdout",
     "output_type": "stream",
     "text": [
      "10\n"
     ]
    }
   ],
   "source": [
    "print(*map(lambda x: x.cell_contents, inner_func1.__closure__))"
   ]
  },
  {
   "cell_type": "code",
   "execution_count": 45,
   "metadata": {},
   "outputs": [
    {
     "name": "stdout",
     "output_type": "stream",
     "text": [
      "20\n"
     ]
    }
   ],
   "source": [
    "print(*map(lambda x: x.cell_contents, inner_func2.__closure__))"
   ]
  },
  {
   "cell_type": "markdown",
   "metadata": {},
   "source": [
    "### Замыкания и атрибуты"
   ]
  },
  {
   "cell_type": "code",
   "execution_count": 46,
   "metadata": {
    "collapsed": true
   },
   "outputs": [],
   "source": [
    "def get_adder(x):\n",
    "    def adder(y):\n",
    "        return adder.x + y\n",
    "\n",
    "    def update(x):\n",
    "        adder.x = x\n",
    "\n",
    "    adder.x = x\n",
    "    adder.update = update\n",
    "\n",
    "    return adder"
   ]
  },
  {
   "cell_type": "code",
   "execution_count": 47,
   "metadata": {
    "collapsed": true
   },
   "outputs": [],
   "source": [
    "inc_adder = get_adder(1)"
   ]
  },
  {
   "cell_type": "code",
   "execution_count": 48,
   "metadata": {},
   "outputs": [
    {
     "data": {
      "text/plain": [
       "3"
      ]
     },
     "execution_count": 48,
     "metadata": {},
     "output_type": "execute_result"
    }
   ],
   "source": [
    "inc_adder(2)"
   ]
  },
  {
   "cell_type": "code",
   "execution_count": 49,
   "metadata": {},
   "outputs": [
    {
     "data": {
      "text/plain": [
       "7"
      ]
     },
     "execution_count": 49,
     "metadata": {},
     "output_type": "execute_result"
    }
   ],
   "source": [
    "inc_adder.update(3)\n",
    "inc_adder(4)"
   ]
  },
  {
   "cell_type": "markdown",
   "metadata": {},
   "source": [
    "#### Пример использования"
   ]
  },
  {
   "cell_type": "code",
   "execution_count": 50,
   "metadata": {
    "collapsed": true
   },
   "outputs": [],
   "source": [
    "def connect_manager(connector_id, prev_connections=[]):\n",
    "    def connector(guid):\n",
    "        connector.user_guids.append(guid)\n",
    "    \n",
    "    def clear():\n",
    "        connector.user_guids = []\n",
    "    \n",
    "    connector.user_guids = prev_connections\n",
    "    connector.clear = clear\n",
    "    connector.id = connector_id\n",
    "\n",
    "    return connector"
   ]
  },
  {
   "cell_type": "code",
   "execution_count": 51,
   "metadata": {},
   "outputs": [],
   "source": [
    "connector1 = connect_manager(1)\n",
    "connector2 = connect_manager(2)"
   ]
  },
  {
   "cell_type": "code",
   "execution_count": 52,
   "metadata": {},
   "outputs": [],
   "source": [
    "connector1(\"guid1\")\n",
    "connector2(\"guid2\")"
   ]
  },
  {
   "cell_type": "code",
   "execution_count": 53,
   "metadata": {},
   "outputs": [
    {
     "data": {
      "text/plain": [
       "(['guid1', 'guid2'], ['guid1', 'guid2'])"
      ]
     },
     "execution_count": 53,
     "metadata": {},
     "output_type": "execute_result"
    }
   ],
   "source": [
    "connector1.user_guids, connector2.user_guids"
   ]
  },
  {
   "cell_type": "code",
   "execution_count": 54,
   "metadata": {},
   "outputs": [
    {
     "data": {
      "text/plain": [
       "(1, 2)"
      ]
     },
     "execution_count": 54,
     "metadata": {},
     "output_type": "execute_result"
    }
   ],
   "source": [
    "connector1.id, connector2.id"
   ]
  },
  {
   "cell_type": "markdown",
   "metadata": {},
   "source": [
    "# Декораторы"
   ]
  },
  {
   "cell_type": "markdown",
   "metadata": {},
   "source": [
    "### Просто функция"
   ]
  },
  {
   "cell_type": "code",
   "execution_count": 55,
   "metadata": {},
   "outputs": [
    {
     "name": "stdout",
     "output_type": "stream",
     "text": [
      "Function f is deprecated!\n"
     ]
    },
    {
     "data": {
      "text/plain": [
       "10"
      ]
     },
     "execution_count": 55,
     "metadata": {},
     "output_type": "execute_result"
    }
   ],
   "source": [
    "def deprecated(func):\n",
    "    def wrapper(*args, **kwargs):\n",
    "        print(\"Function {} is deprecated!\".format(func.__name__))\n",
    "        return func(*args, **kwargs)\n",
    "    return wrapper\n",
    "\n",
    "def f(x):\n",
    "    return x\n",
    "# WTF\n",
    "f = deprecated(f)\n",
    "f(10)"
   ]
  },
  {
   "cell_type": "markdown",
   "metadata": {},
   "source": [
    "### Декоратор"
   ]
  },
  {
   "cell_type": "code",
   "execution_count": 56,
   "metadata": {},
   "outputs": [
    {
     "name": "stdout",
     "output_type": "stream",
     "text": [
      "Decorator created!\n"
     ]
    }
   ],
   "source": [
    "def deprecated(func):\n",
    "    print(\"Decorator created!\")\n",
    "    def wrapper(*args, **kwargs):\n",
    "        print(\"Function {} is deprecated!\".format(func.__name__))\n",
    "        return func(*args, **kwargs)\n",
    "    return wrapper\n",
    "\n",
    "@deprecated\n",
    "def f(x):\n",
    "    return x"
   ]
  },
  {
   "cell_type": "code",
   "execution_count": 57,
   "metadata": {},
   "outputs": [
    {
     "name": "stdout",
     "output_type": "stream",
     "text": [
      "Function f is deprecated!\n"
     ]
    },
    {
     "data": {
      "text/plain": [
       "10"
      ]
     },
     "execution_count": 57,
     "metadata": {},
     "output_type": "execute_result"
    }
   ],
   "source": [
    "f(10)"
   ]
  },
  {
   "cell_type": "markdown",
   "metadata": {},
   "source": [
    "### Проблема с использованием декораторов:"
   ]
  },
  {
   "cell_type": "code",
   "execution_count": 58,
   "metadata": {},
   "outputs": [
    {
     "name": "stdout",
     "output_type": "stream",
     "text": [
      "Decorator created!\n"
     ]
    },
    {
     "data": {
      "text/plain": [
       "'wrapper'"
      ]
     },
     "execution_count": 58,
     "metadata": {},
     "output_type": "execute_result"
    }
   ],
   "source": [
    "@deprecated\n",
    "def f(x):\n",
    "    return x\n",
    "f.__name__"
   ]
  },
  {
   "cell_type": "markdown",
   "metadata": {},
   "source": [
    "### Решение: functools"
   ]
  },
  {
   "cell_type": "code",
   "execution_count": 59,
   "metadata": {
    "collapsed": true
   },
   "outputs": [],
   "source": [
    "import functools\n",
    "\n",
    "def deprecated(func):\n",
    "    @functools.wraps(func)\n",
    "    def wrapper(*args, **kwargs):\n",
    "        print(\"Function {} is deprecated!\".format(func.__name__))\n",
    "        return func(*args, **kwargs)\n",
    "    return wrapper\n",
    "\n",
    "@deprecated\n",
    "def f(x):\n",
    "    return x"
   ]
  },
  {
   "cell_type": "code",
   "execution_count": 60,
   "metadata": {},
   "outputs": [
    {
     "data": {
      "text/plain": [
       "'f'"
      ]
     },
     "execution_count": 60,
     "metadata": {},
     "output_type": "execute_result"
    }
   ],
   "source": [
    "f.__name__"
   ]
  },
  {
   "cell_type": "markdown",
   "metadata": {},
   "source": [
    "### Декораторы с аргументами"
   ]
  },
  {
   "cell_type": "code",
   "execution_count": 61,
   "metadata": {},
   "outputs": [
    {
     "name": "stdout",
     "output_type": "stream",
     "text": [
      "Decorator creater!\n",
      "Decorator created!\n"
     ]
    }
   ],
   "source": [
    "import sys\n",
    "import functools\n",
    "\n",
    "def decorator_maker(dest=sys.stdout):\n",
    "    print(\"Decorator creater!\")\n",
    "    def deprecated(func):\n",
    "        print(\"Decorator created!\")\n",
    "        @functools.wraps(func)\n",
    "        def wrapper(*args, **kwargs):\n",
    "            print(\"Function {} is deprecated!\".format(func.__name__), file=dest)\n",
    "            return func(*args, **kwargs)\n",
    "        return wrapper\n",
    "    return deprecated\n",
    "\n",
    "@decorator_maker(sys.stderr)\n",
    "def f(x):\n",
    "    print(x)"
   ]
  },
  {
   "cell_type": "code",
   "execution_count": 62,
   "metadata": {},
   "outputs": [
    {
     "name": "stdout",
     "output_type": "stream",
     "text": [
      "1\n"
     ]
    },
    {
     "name": "stderr",
     "output_type": "stream",
     "text": [
      "Function f is deprecated!\n"
     ]
    }
   ],
   "source": [
    "f(1)"
   ]
  },
  {
   "cell_type": "markdown",
   "metadata": {},
   "source": [
    "### Классы декораторы"
   ]
  },
  {
   "cell_type": "code",
   "execution_count": 63,
   "metadata": {
    "collapsed": true
   },
   "outputs": [],
   "source": [
    "class Logger(object):\n",
    "    def __init__(self, func):\n",
    "        self.func = func\n",
    "        self.log = []\n",
    "    def __call__(self, *args, **kwargs):\n",
    "        self.log.append((args, kwargs))\n",
    "        return self.func(*args, **kwargs)\n",
    "    pass\n",
    "\n",
    "@Logger\n",
    "def f(x, y=1):\n",
    "    return x * y"
   ]
  },
  {
   "cell_type": "code",
   "execution_count": 64,
   "metadata": {},
   "outputs": [
    {
     "data": {
      "text/plain": [
       "2"
      ]
     },
     "execution_count": 64,
     "metadata": {},
     "output_type": "execute_result"
    }
   ],
   "source": [
    "f(1, 2)"
   ]
  },
  {
   "cell_type": "code",
   "execution_count": 65,
   "metadata": {},
   "outputs": [
    {
     "data": {
      "text/plain": [
       "[((1, 2), {})]"
      ]
     },
     "execution_count": 65,
     "metadata": {},
     "output_type": "execute_result"
    }
   ],
   "source": [
    "f.log"
   ]
  },
  {
   "cell_type": "markdown",
   "metadata": {},
   "source": [
    "### Множественные декораторы"
   ]
  },
  {
   "cell_type": "code",
   "execution_count": 66,
   "metadata": {},
   "outputs": [],
   "source": [
    "import sys\n",
    "import functools\n",
    "\n",
    "def decorator_maker(dest=sys.stdout):\n",
    "    def deprecated(func):\n",
    "        @functools.wraps(func)\n",
    "        def wrapper(*args, **kwargs):\n",
    "            print(\"Function {} is deprecated!\".format(func.__name__), file=dest)\n",
    "            return func(*args, **kwargs)\n",
    "        return wrapper\n",
    "    return deprecated\n",
    "\n",
    "\n",
    "class Logger(object):\n",
    "    def __init__(self, func):\n",
    "        self.func = func\n",
    "        self.log = []\n",
    "\n",
    "    def __call__(self, *args, **kwargs):\n",
    "        self.log.append((args, kwargs))\n",
    "        return self.func(*args, **kwargs)\n",
    "\n",
    "@Logger\n",
    "@decorator_maker(sys.stderr)\n",
    "def f(x):\n",
    "    print(x)"
   ]
  },
  {
   "cell_type": "code",
   "execution_count": 67,
   "metadata": {},
   "outputs": [
    {
     "name": "stdout",
     "output_type": "stream",
     "text": [
      "1\n"
     ]
    },
    {
     "name": "stderr",
     "output_type": "stream",
     "text": [
      "Function f is deprecated!\n"
     ]
    }
   ],
   "source": [
    "f(1)"
   ]
  },
  {
   "cell_type": "code",
   "execution_count": 68,
   "metadata": {},
   "outputs": [
    {
     "data": {
      "text/plain": [
       "<__main__.Logger at 0x10efd9f60>"
      ]
     },
     "execution_count": 68,
     "metadata": {},
     "output_type": "execute_result"
    }
   ],
   "source": [
    "f"
   ]
  },
  {
   "cell_type": "markdown",
   "metadata": {},
   "source": [
    "### Декораторы внутри классов"
   ]
  },
  {
   "cell_type": "code",
   "execution_count": 69,
   "metadata": {},
   "outputs": [],
   "source": [
    "def decorator_maker(dest=sys.stderr):\n",
    "    def deprecated(func):\n",
    "        @functools.wraps(func)\n",
    "        def wrapper(*args, **kwargs):\n",
    "            print(\"Function {} is deprecated!\".format(func.__name__), file=dest)\n",
    "            return func(*args, **kwargs)\n",
    "        return wrapper\n",
    "    return deprecated\n",
    "\n",
    "class TestClass1(object):\n",
    "    \n",
    "    def __init__(self):\n",
    "        self.__name__ = \"Changed name\"\n",
    "    \n",
    "    @classmethod\n",
    "    def get_class_name(cls):\n",
    "        return cls.__name__\n",
    "    \n",
    "    @staticmethod\n",
    "    @decorator_maker()\n",
    "    def add_numbers(x, y):\n",
    "        return x + y\n",
    "\n",
    "class TestClass2(TestClass1):\n",
    "    pass\n",
    "\n",
    "cls1 = TestClass1()\n",
    "cls2 = TestClass2()"
   ]
  },
  {
   "cell_type": "code",
   "execution_count": 70,
   "metadata": {},
   "outputs": [
    {
     "data": {
      "text/plain": [
       "('TestClass1', 'TestClass2')"
      ]
     },
     "execution_count": 70,
     "metadata": {},
     "output_type": "execute_result"
    }
   ],
   "source": [
    "cls1.get_class_name(), cls2.get_class_name()"
   ]
  },
  {
   "cell_type": "code",
   "execution_count": 71,
   "metadata": {},
   "outputs": [
    {
     "data": {
      "text/plain": [
       "('Changed name', 'Changed name')"
      ]
     },
     "execution_count": 71,
     "metadata": {},
     "output_type": "execute_result"
    }
   ],
   "source": [
    "cls1.__name__, cls2.__name__"
   ]
  },
  {
   "cell_type": "code",
   "execution_count": 72,
   "metadata": {},
   "outputs": [
    {
     "name": "stderr",
     "output_type": "stream",
     "text": [
      "Function add_numbers is deprecated!\n"
     ]
    },
    {
     "data": {
      "text/plain": [
       "4"
      ]
     },
     "execution_count": 72,
     "metadata": {},
     "output_type": "execute_result"
    }
   ],
   "source": [
    "cls1.add_numbers(1, 3)"
   ]
  },
  {
   "cell_type": "code",
   "execution_count": 73,
   "metadata": {},
   "outputs": [
    {
     "name": "stderr",
     "output_type": "stream",
     "text": [
      "Function add_numbers is deprecated!\n"
     ]
    },
    {
     "data": {
      "text/plain": [
       "4"
      ]
     },
     "execution_count": 73,
     "metadata": {},
     "output_type": "execute_result"
    }
   ],
   "source": [
    "cls2.add_numbers(1, 3)"
   ]
  },
  {
   "cell_type": "markdown",
   "metadata": {},
   "source": [
    "### Декорирование класса"
   ]
  },
  {
   "cell_type": "code",
   "execution_count": 74,
   "metadata": {},
   "outputs": [
    {
     "data": {
      "text/plain": [
       "True"
      ]
     },
     "execution_count": 74,
     "metadata": {},
     "output_type": "execute_result"
    }
   ],
   "source": [
    "def singleton(cls):\n",
    "    instance = None\n",
    "    @functools.wraps(cls)\n",
    "    def inner(*args, **kwargs):\n",
    "        nonlocal instance\n",
    "        if instance is None:\n",
    "            instance = cls(*args, **kwargs)\n",
    "        return instance\n",
    "    return inner\n",
    "\n",
    "@singleton\n",
    "class A:\n",
    "    \"nothing\"\n",
    "A() is A()"
   ]
  },
  {
   "cell_type": "markdown",
   "metadata": {},
   "source": [
    "#### Добавление метода в класс"
   ]
  },
  {
   "cell_type": "code",
   "execution_count": 75,
   "metadata": {},
   "outputs": [],
   "source": [
    "def class_dec(cls):\n",
    "    class ClassWrapper(cls):\n",
    "        def add(self, x, y):\n",
    "            return x + y\n",
    "    return ClassWrapper\n",
    " \n",
    "@class_dec\n",
    "class BinaryOperation(object):\n",
    "    def mul(self, x, y):\n",
    "        return x * y\n",
    "    pass"
   ]
  },
  {
   "cell_type": "code",
   "execution_count": 76,
   "metadata": {
    "collapsed": true
   },
   "outputs": [],
   "source": [
    "b = BinaryOperation()"
   ]
  },
  {
   "cell_type": "code",
   "execution_count": 77,
   "metadata": {},
   "outputs": [
    {
     "data": {
      "text/plain": [
       "__main__.class_dec.<locals>.ClassWrapper"
      ]
     },
     "execution_count": 77,
     "metadata": {},
     "output_type": "execute_result"
    }
   ],
   "source": [
    "b.__class__"
   ]
  },
  {
   "cell_type": "code",
   "execution_count": 78,
   "metadata": {},
   "outputs": [
    {
     "ename": "AttributeError",
     "evalue": "'mappingproxy' object has no attribute 'update'",
     "output_type": "error",
     "traceback": [
      "\u001b[0;31m---------------------------------------------------------------------------\u001b[0m",
      "\u001b[0;31mAttributeError\u001b[0m                            Traceback (most recent call last)",
      "\u001b[0;32m<ipython-input-78-0569ffba77c4>\u001b[0m in \u001b[0;36m<module>\u001b[0;34m()\u001b[0m\n\u001b[1;32m      7\u001b[0m \u001b[0;34m\u001b[0m\u001b[0m\n\u001b[1;32m      8\u001b[0m \u001b[0;34m@\u001b[0m\u001b[0mclass_dec\u001b[0m\u001b[0;34m\u001b[0m\u001b[0m\n\u001b[0;32m----> 9\u001b[0;31m \u001b[0;32mclass\u001b[0m \u001b[0mBinaryOperation\u001b[0m\u001b[0;34m(\u001b[0m\u001b[0mobject\u001b[0m\u001b[0;34m)\u001b[0m\u001b[0;34m:\u001b[0m\u001b[0;34m\u001b[0m\u001b[0m\n\u001b[0m\u001b[1;32m     10\u001b[0m     \u001b[0;32mdef\u001b[0m \u001b[0mmul\u001b[0m\u001b[0;34m(\u001b[0m\u001b[0mself\u001b[0m\u001b[0;34m,\u001b[0m \u001b[0mx\u001b[0m\u001b[0;34m,\u001b[0m \u001b[0my\u001b[0m\u001b[0;34m)\u001b[0m\u001b[0;34m:\u001b[0m\u001b[0;34m\u001b[0m\u001b[0m\n\u001b[1;32m     11\u001b[0m         \u001b[0;32mreturn\u001b[0m \u001b[0mx\u001b[0m \u001b[0;34m*\u001b[0m \u001b[0my\u001b[0m\u001b[0;34m\u001b[0m\u001b[0m\n",
      "\u001b[0;32m<ipython-input-78-0569ffba77c4>\u001b[0m in \u001b[0;36mclass_dec\u001b[0;34m(cls)\u001b[0m\n\u001b[1;32m      1\u001b[0m \u001b[0;32mdef\u001b[0m \u001b[0mclass_dec\u001b[0m\u001b[0;34m(\u001b[0m\u001b[0mcls\u001b[0m\u001b[0;34m)\u001b[0m\u001b[0;34m:\u001b[0m\u001b[0;34m\u001b[0m\u001b[0m\n\u001b[1;32m      2\u001b[0m     \u001b[0;34m@\u001b[0m\u001b[0mfunctools\u001b[0m\u001b[0;34m.\u001b[0m\u001b[0mwraps\u001b[0m\u001b[0;34m(\u001b[0m\u001b[0mcls\u001b[0m\u001b[0;34m)\u001b[0m\u001b[0;34m\u001b[0m\u001b[0m\n\u001b[0;32m----> 3\u001b[0;31m     \u001b[0;32mclass\u001b[0m \u001b[0mClassWrapper\u001b[0m\u001b[0;34m(\u001b[0m\u001b[0mcls\u001b[0m\u001b[0;34m)\u001b[0m\u001b[0;34m:\u001b[0m\u001b[0;34m\u001b[0m\u001b[0m\n\u001b[0m\u001b[1;32m      4\u001b[0m         \u001b[0;32mdef\u001b[0m \u001b[0madd\u001b[0m\u001b[0;34m(\u001b[0m\u001b[0mself\u001b[0m\u001b[0;34m,\u001b[0m \u001b[0mx\u001b[0m\u001b[0;34m,\u001b[0m \u001b[0my\u001b[0m\u001b[0;34m)\u001b[0m\u001b[0;34m:\u001b[0m\u001b[0;34m\u001b[0m\u001b[0m\n\u001b[1;32m      5\u001b[0m             \u001b[0;32mreturn\u001b[0m \u001b[0mx\u001b[0m \u001b[0;34m+\u001b[0m \u001b[0my\u001b[0m\u001b[0;34m\u001b[0m\u001b[0m\n",
      "\u001b[0;32m/usr/local/Cellar/python3/3.6.1/Frameworks/Python.framework/Versions/3.6/lib/python3.6/functools.py\u001b[0m in \u001b[0;36mupdate_wrapper\u001b[0;34m(wrapper, wrapped, assigned, updated)\u001b[0m\n\u001b[1;32m     65\u001b[0m             \u001b[0msetattr\u001b[0m\u001b[0;34m(\u001b[0m\u001b[0mwrapper\u001b[0m\u001b[0;34m,\u001b[0m \u001b[0mattr\u001b[0m\u001b[0;34m,\u001b[0m \u001b[0mvalue\u001b[0m\u001b[0;34m)\u001b[0m\u001b[0;34m\u001b[0m\u001b[0m\n\u001b[1;32m     66\u001b[0m     \u001b[0;32mfor\u001b[0m \u001b[0mattr\u001b[0m \u001b[0;32min\u001b[0m \u001b[0mupdated\u001b[0m\u001b[0;34m:\u001b[0m\u001b[0;34m\u001b[0m\u001b[0m\n\u001b[0;32m---> 67\u001b[0;31m         \u001b[0mgetattr\u001b[0m\u001b[0;34m(\u001b[0m\u001b[0mwrapper\u001b[0m\u001b[0;34m,\u001b[0m \u001b[0mattr\u001b[0m\u001b[0;34m)\u001b[0m\u001b[0;34m.\u001b[0m\u001b[0mupdate\u001b[0m\u001b[0;34m(\u001b[0m\u001b[0mgetattr\u001b[0m\u001b[0;34m(\u001b[0m\u001b[0mwrapped\u001b[0m\u001b[0;34m,\u001b[0m \u001b[0mattr\u001b[0m\u001b[0;34m,\u001b[0m \u001b[0;34m{\u001b[0m\u001b[0;34m}\u001b[0m\u001b[0;34m)\u001b[0m\u001b[0;34m)\u001b[0m\u001b[0;34m\u001b[0m\u001b[0m\n\u001b[0m\u001b[1;32m     68\u001b[0m     \u001b[0;31m# Issue #17482: set __wrapped__ last so we don't inadvertently copy it\u001b[0m\u001b[0;34m\u001b[0m\u001b[0;34m\u001b[0m\u001b[0m\n\u001b[1;32m     69\u001b[0m     \u001b[0;31m# from the wrapped function when updating __dict__\u001b[0m\u001b[0;34m\u001b[0m\u001b[0;34m\u001b[0m\u001b[0m\n",
      "\u001b[0;31mAttributeError\u001b[0m: 'mappingproxy' object has no attribute 'update'"
     ]
    }
   ],
   "source": [
    "def class_dec(cls):\n",
    "    @functools.wraps(cls)\n",
    "    class ClassWrapper(cls):\n",
    "        def add(self, x, y):\n",
    "            return x + y\n",
    "    return ClassWrapper\n",
    " \n",
    "@class_dec\n",
    "class BinaryOperation(object):\n",
    "    def mul(self, x, y):\n",
    "        return x * y\n",
    "    pass"
   ]
  },
  {
   "cell_type": "code",
   "execution_count": null,
   "metadata": {
    "collapsed": true
   },
   "outputs": [],
   "source": []
  },
  {
   "cell_type": "code",
   "execution_count": null,
   "metadata": {
    "collapsed": true
   },
   "outputs": [],
   "source": []
  },
  {
   "cell_type": "code",
   "execution_count": null,
   "metadata": {
    "collapsed": true
   },
   "outputs": [],
   "source": []
  },
  {
   "cell_type": "code",
   "execution_count": null,
   "metadata": {
    "collapsed": true
   },
   "outputs": [],
   "source": []
  },
  {
   "cell_type": "code",
   "execution_count": null,
   "metadata": {
    "collapsed": true
   },
   "outputs": [],
   "source": []
  },
  {
   "cell_type": "code",
   "execution_count": null,
   "metadata": {
    "collapsed": true
   },
   "outputs": [],
   "source": []
  }
 ],
 "metadata": {
  "kernelspec": {
   "display_name": "Python 3",
   "language": "python",
   "name": "python3"
  },
  "language_info": {
   "codemirror_mode": {
    "name": "ipython",
    "version": 3
   },
   "file_extension": ".py",
   "mimetype": "text/x-python",
   "name": "python",
   "nbconvert_exporter": "python",
   "pygments_lexer": "ipython3",
   "version": "3.6.1"
  }
 },
 "nbformat": 4,
 "nbformat_minor": 2
}
